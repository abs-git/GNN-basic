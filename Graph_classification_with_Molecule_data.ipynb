{
  "nbformat": 4,
  "nbformat_minor": 0,
  "metadata": {
    "colab": {
      "name": "Graph_classification_with_Molecule_data.ipynb",
      "provenance": [],
      "collapsed_sections": [],
      "authorship_tag": "ABX9TyOPBdSkHSOsbPmNUjnXG5hm",
      "include_colab_link": true
    },
    "kernelspec": {
      "name": "python3",
      "display_name": "Python 3"
    },
    "language_info": {
      "name": "python"
    }
  },
  "cells": [
    {
      "cell_type": "markdown",
      "metadata": {
        "id": "view-in-github",
        "colab_type": "text"
      },
      "source": [
        "<a href=\"https://colab.research.google.com/github/abs-git/GNN/blob/main/Graph_classification_with_Molecule_data.ipynb\" target=\"_parent\"><img src=\"https://colab.research.google.com/assets/colab-badge.svg\" alt=\"Open In Colab\"/></a>"
      ]
    },
    {
      "cell_type": "code",
      "execution_count": null,
      "metadata": {
        "id": "XTshDS8sOJgf"
      },
      "outputs": [],
      "source": [
        "!pip install rdkit\n",
        "!pip install torch-scatter torch-sparse torch-cluster torch-spline-conv torch-geometric"
      ]
    },
    {
      "cell_type": "markdown",
      "source": [
        "# Load data"
      ],
      "metadata": {
        "id": "SsbpWlSMOx3M"
      }
    },
    {
      "cell_type": "code",
      "source": [
        "# MoleculeNet collection\n",
        "# ESOL data\n",
        "\n",
        "import rdkit\n",
        "from torch_geometric.datasets import MoleculeNet\n",
        "\n",
        "data = MoleculeNet(root = \".\", name = \"ESOL\")\n",
        "\n",
        "data"
      ],
      "metadata": {
        "colab": {
          "base_uri": "https://localhost:8080/"
        },
        "id": "qZg5U0bHOhOP",
        "outputId": "7adcd196-0842-4634-8cec-2e3e009d99da"
      },
      "execution_count": 4,
      "outputs": [
        {
          "output_type": "stream",
          "name": "stderr",
          "text": [
            "Downloading https://deepchemdata.s3-us-west-1.amazonaws.com/datasets/delaney-processed.csv\n",
            "Processing...\n",
            "Done!\n"
          ]
        },
        {
          "output_type": "execute_result",
          "data": {
            "text/plain": [
              "ESOL(1128)"
            ]
          },
          "metadata": {},
          "execution_count": 4
        }
      ]
    },
    {
      "cell_type": "code",
      "source": [
        "# edge_index = graph connections\n",
        "# smiles = molcule with its atoms structure\n",
        "# X = node features (32 nodes have each 9 features)\n",
        "# y = labels (dimension)\n",
        "\n",
        "\n",
        "print(\"type         : {}\".format(type(data)))\n",
        "print(\"features     : {}\".format(data.num_features))\n",
        "print(\"target       : {}\".format(data.num_classes))\n",
        "print(\"length       : {}\".format(data.len))\n",
        "print(\"sample       : {}\".format(data[0]))\n",
        "print(\"Sample nodes : {}\".format(data[0].num_nodes))\n",
        "print(\"Sample edges : {}\".format(data[0].num_edges))"
      ],
      "metadata": {
        "colab": {
          "base_uri": "https://localhost:8080/"
        },
        "id": "XD8qfqS5PW_X",
        "outputId": "9dbc1f9c-4e38-454d-836c-330279e144e2"
      },
      "execution_count": 5,
      "outputs": [
        {
          "output_type": "stream",
          "name": "stdout",
          "text": [
            "type         : <class 'torch_geometric.datasets.molecule_net.MoleculeNet'>\n",
            "features     : 9\n",
            "target       : 734\n",
            "length       : <bound method InMemoryDataset.len of ESOL(1128)>\n",
            "sample       : Data(x=[32, 9], edge_index=[2, 68], edge_attr=[68, 3], y=[1, 1], smiles='OCC3OC(OCC2OC(OC(C#N)c1ccccc1)C(O)C(O)C2O)C(O)C(O)C3O ')\n",
            "Sample nodes : 32\n",
            "Sample edges : 68\n"
          ]
        }
      ]
    },
    {
      "cell_type": "code",
      "source": [
        "print(\"[num_nodes, num_node_features] : {}\".format(data[0].x.shape))\n",
        "data[0].x"
      ],
      "metadata": {
        "colab": {
          "base_uri": "https://localhost:8080/"
        },
        "id": "5_PpIwmUPeSm",
        "outputId": "e3547ec0-8157-4643-d493-0ef66cb89bd0"
      },
      "execution_count": 6,
      "outputs": [
        {
          "output_type": "stream",
          "name": "stdout",
          "text": [
            "[num_nodes, num_node_features] : torch.Size([32, 9])\n"
          ]
        },
        {
          "output_type": "execute_result",
          "data": {
            "text/plain": [
              "tensor([[8, 0, 2, 5, 1, 0, 4, 0, 0],\n",
              "        [6, 0, 4, 5, 2, 0, 4, 0, 0],\n",
              "        [6, 0, 4, 5, 1, 0, 4, 0, 1],\n",
              "        [8, 0, 2, 5, 0, 0, 4, 0, 1],\n",
              "        [6, 0, 4, 5, 1, 0, 4, 0, 1],\n",
              "        [8, 0, 2, 5, 0, 0, 4, 0, 0],\n",
              "        [6, 0, 4, 5, 2, 0, 4, 0, 0],\n",
              "        [6, 0, 4, 5, 1, 0, 4, 0, 1],\n",
              "        [8, 0, 2, 5, 0, 0, 4, 0, 1],\n",
              "        [6, 0, 4, 5, 1, 0, 4, 0, 1],\n",
              "        [8, 0, 2, 5, 0, 0, 4, 0, 0],\n",
              "        [6, 0, 4, 5, 1, 0, 4, 0, 0],\n",
              "        [6, 0, 2, 5, 0, 0, 2, 0, 0],\n",
              "        [7, 0, 1, 5, 0, 0, 2, 0, 0],\n",
              "        [6, 0, 3, 5, 0, 0, 3, 1, 1],\n",
              "        [6, 0, 3, 5, 1, 0, 3, 1, 1],\n",
              "        [6, 0, 3, 5, 1, 0, 3, 1, 1],\n",
              "        [6, 0, 3, 5, 1, 0, 3, 1, 1],\n",
              "        [6, 0, 3, 5, 1, 0, 3, 1, 1],\n",
              "        [6, 0, 3, 5, 1, 0, 3, 1, 1],\n",
              "        [6, 0, 4, 5, 1, 0, 4, 0, 1],\n",
              "        [8, 0, 2, 5, 1, 0, 4, 0, 0],\n",
              "        [6, 0, 4, 5, 1, 0, 4, 0, 1],\n",
              "        [8, 0, 2, 5, 1, 0, 4, 0, 0],\n",
              "        [6, 0, 4, 5, 1, 0, 4, 0, 1],\n",
              "        [8, 0, 2, 5, 1, 0, 4, 0, 0],\n",
              "        [6, 0, 4, 5, 1, 0, 4, 0, 1],\n",
              "        [8, 0, 2, 5, 1, 0, 4, 0, 0],\n",
              "        [6, 0, 4, 5, 1, 0, 4, 0, 1],\n",
              "        [8, 0, 2, 5, 1, 0, 4, 0, 0],\n",
              "        [6, 0, 4, 5, 1, 0, 4, 0, 1],\n",
              "        [8, 0, 2, 5, 1, 0, 4, 0, 0]])"
            ]
          },
          "metadata": {},
          "execution_count": 6
        }
      ]
    },
    {
      "cell_type": "code",
      "source": [
        "print(\"[2, num_edges] : {}\".format(data[0].edge_index.shape))\n",
        "data[0].edge_index"
      ],
      "metadata": {
        "colab": {
          "base_uri": "https://localhost:8080/"
        },
        "id": "_wCjodSIQjH8",
        "outputId": "88df84c2-18e4-421c-fcf7-74b98d120fda"
      },
      "execution_count": 7,
      "outputs": [
        {
          "output_type": "stream",
          "name": "stdout",
          "text": [
            "[2, num_edges] : torch.Size([2, 68])\n"
          ]
        },
        {
          "output_type": "execute_result",
          "data": {
            "text/plain": [
              "tensor([[ 0,  1,  1,  2,  2,  2,  3,  3,  4,  4,  4,  5,  5,  6,  6,  7,  7,  7,\n",
              "          8,  8,  9,  9,  9, 10, 10, 11, 11, 11, 12, 12, 13, 14, 14, 14, 15, 15,\n",
              "         16, 16, 17, 17, 18, 18, 19, 19, 20, 20, 20, 21, 22, 22, 22, 23, 24, 24,\n",
              "         24, 25, 26, 26, 26, 27, 28, 28, 28, 29, 30, 30, 30, 31],\n",
              "        [ 1,  0,  2,  1,  3, 30,  2,  4,  3,  5, 26,  4,  6,  5,  7,  6,  8, 24,\n",
              "          7,  9,  8, 10, 20,  9, 11, 10, 12, 14, 11, 13, 12, 11, 15, 19, 14, 16,\n",
              "         15, 17, 16, 18, 17, 19, 14, 18,  9, 21, 22, 20, 20, 23, 24, 22,  7, 22,\n",
              "         25, 24,  4, 27, 28, 26, 26, 29, 30, 28,  2, 28, 31, 30]])"
            ]
          },
          "metadata": {},
          "execution_count": 7
        }
      ]
    },
    {
      "cell_type": "code",
      "source": [
        "print('target : {}'.format(data[0].y))"
      ],
      "metadata": {
        "colab": {
          "base_uri": "https://localhost:8080/"
        },
        "id": "XBWKKHeZRJpv",
        "outputId": "415fd63a-7747-444d-e614-e86219bdcaff"
      },
      "execution_count": 8,
      "outputs": [
        {
          "output_type": "stream",
          "name": "stdout",
          "text": [
            "target : tensor([[-0.7700]])\n"
          ]
        }
      ]
    },
    {
      "cell_type": "code",
      "source": [
        "from rdkit import Chem\n",
        "from rdkit.Chem.Draw import IPythonConsole\n",
        "\n",
        "print(data[0]['smiles'])\n",
        "\n",
        "sample_molecule = Chem.MolFromSmiles(data[0][\"smiles\"])\n",
        "\n",
        "sample_molecule"
      ],
      "metadata": {
        "colab": {
          "base_uri": "https://localhost:8080/",
          "height": 184
        },
        "id": "iiIzX2MIRPEP",
        "outputId": "dabf7cec-db89-4740-e783-00b2d8ac06df"
      },
      "execution_count": 10,
      "outputs": [
        {
          "output_type": "stream",
          "name": "stdout",
          "text": [
            "OCC3OC(OCC2OC(OC(C#N)c1ccccc1)C(O)C(O)C2O)C(O)C(O)C3O \n"
          ]
        },
        {
          "output_type": "execute_result",
          "data": {
            "text/plain": [
              "<rdkit.Chem.rdchem.Mol at 0x7eff133eb490>"
            ],
            "image/png": "[encoded data removed]"
          },
          "metadata": {},
          "execution_count": 10
        }
      ]
    },
    {
      "cell_type": "markdown",
      "source": [
        "# Modeling"
      ],
      "metadata": {
        "id": "VmB77xf-RyeK"
      }
    },
    {
      "cell_type": "code",
      "source": [
        "import torch\n",
        "from torch import nn\n",
        "import torch.nn.functional as F\n",
        "\n",
        "from torch_geometric.nn import GCNConv, TopKPooling\n",
        "from torch_geometric.nn import global_mean_pool\n",
        "from torch_geometric.nn import global_max_pool\n"
      ],
      "metadata": {
        "id": "Mi0n4741R2DT"
      },
      "execution_count": 11,
      "outputs": []
    },
    {
      "cell_type": "code",
      "source": [
        "class GCN(nn.Module):\n",
        "  def __init__(self, data, embedding_size):\n",
        "    super(GCN, self).__init__()\n",
        "\n",
        "    self.init_conv = GCNConv(data.num_features, embedding_size)     # called massage passing \n",
        "    self.Conv1 = GCNConv(embedding_size, embedding_size)\n",
        "    self.Conv2 = GCNConv(embedding_size, embedding_size)\n",
        "    self.Conv3 = GCNConv(embedding_size, embedding_size)\n",
        "\n",
        "    self.fc = nn.Linear(embedding_size * 2, 1)\n",
        "\n",
        "  def forward(self, inputs, edge_index, batch_index):\n",
        "\n",
        "    X = self.init_conv(inputs, edge_index)\n",
        "    X = F.tanh(X)\n",
        "\n",
        "    X = self.Conv1(X, edge_index)\n",
        "    X = F.tanh(X)\n",
        "    X = self.Conv2(X, edge_index)\n",
        "    X = F.tanh(X)\n",
        "    X = self.Conv3(X, edge_index)\n",
        "    X = F.tanh(X)\n",
        "\n",
        "    X = torch.cat([global_max_pool(X, batch_index), global_mean_pool(X, batch_index)], dim=1)\n",
        "\n",
        "    output = self.fc(X)\n",
        "\n",
        "    return output, X\n",
        "\n"
      ],
      "metadata": {
        "id": "eFiGjxrUSUJq"
      },
      "execution_count": 12,
      "outputs": []
    },
    {
      "cell_type": "code",
      "source": [
        "embedding_size = 128\n",
        "\n",
        "model = GCN(data, embedding_size)\n",
        "\n",
        "print(model)"
      ],
      "metadata": {
        "colab": {
          "base_uri": "https://localhost:8080/"
        },
        "id": "q3zapIrNTvLc",
        "outputId": "5758b56f-b885-4b3e-abd4-4d99a8b7bd25"
      },
      "execution_count": 15,
      "outputs": [
        {
          "output_type": "stream",
          "name": "stdout",
          "text": [
            "GCN(\n",
            "  (init_conv): GCNConv(9, 128)\n",
            "  (Conv1): GCNConv(128, 128)\n",
            "  (Conv2): GCNConv(128, 128)\n",
            "  (Conv3): GCNConv(128, 128)\n",
            "  (fc): Linear(in_features=256, out_features=1, bias=True)\n",
            ")\n"
          ]
        }
      ]
    },
    {
      "cell_type": "markdown",
      "source": [
        "# Experience"
      ],
      "metadata": {
        "id": "QuKcZpOPUHyt"
      }
    },
    {
      "cell_type": "code",
      "source": [
        "from torch_geometric.data import DataLoader\n",
        "\n",
        "# train : 0.8, test : 0.2\n",
        "train_loader = DataLoader(data[ : int(len(data) * 0.8)], batch_size = 128, shuffle = True)\n",
        "test_loader = DataLoader(data[int(len(data) * 0.8) : ], batch_size = 128, shuffle = True)\n",
        "\n",
        "learning_rate = 0.0001\n",
        "\n",
        "criterion = nn.MSELoss()\n",
        "optimizer = torch.optim.Adam(model.parameters(), lr = learning_rate)"
      ],
      "metadata": {
        "colab": {
          "base_uri": "https://localhost:8080/"
        },
        "id": "9Mi4ORbgUFT_",
        "outputId": "6ef35f00-d31d-45c2-98f8-71de2630adb3"
      },
      "execution_count": 16,
      "outputs": [
        {
          "output_type": "stream",
          "name": "stderr",
          "text": [
            "/usr/local/lib/python3.7/dist-packages/torch_geometric/deprecation.py:12: UserWarning: 'data.DataLoader' is deprecated, use 'loader.DataLoader' instead\n",
            "  warnings.warn(out)\n"
          ]
        }
      ]
    },
    {
      "cell_type": "code",
      "source": [
        "# train\n",
        "\n",
        "device = torch.device(\"cuda:0\" if torch.cuda.is_available() else \"cpu\")\n",
        "model = model.to(device)\n",
        "\n",
        "EPOCH = 1000\n",
        "\n",
        "losses = []\n",
        "\n",
        "for epoch in range(EPOCH):\n",
        "\n",
        "  for batch in train_loader:\n",
        "    batch.to(device)\n",
        "\n",
        "    optimizer.zero_grad()\n",
        "\n",
        "    pred, embedding_table = model(batch.x.float(), batch.edge_index, batch.batch)\n",
        "\n",
        "    loss = criterion(pred, batch.y)\n",
        "    loss.backward()\n",
        "\n",
        "    optimizer.step()\n",
        "\n",
        "  losses.append(loss)\n",
        "\n",
        "  if epoch % 100 == 0:\n",
        "    print(\"epoch : {}, train loss : {}\".format(epoch, loss))\n"
      ],
      "metadata": {
        "colab": {
          "base_uri": "https://localhost:8080/"
        },
        "id": "9fUTjIx6VZaz",
        "outputId": "8cf01909-e906-4808-9b4d-47d9d4aceb7b"
      },
      "execution_count": 17,
      "outputs": [
        {
          "output_type": "stream",
          "name": "stderr",
          "text": [
            "/usr/local/lib/python3.7/dist-packages/torch/nn/functional.py:1949: UserWarning: nn.functional.tanh is deprecated. Use torch.tanh instead.\n",
            "  warnings.warn(\"nn.functional.tanh is deprecated. Use torch.tanh instead.\")\n"
          ]
        },
        {
          "output_type": "stream",
          "name": "stdout",
          "text": [
            "epoch : 0, train loss : 12.324721336364746\n",
            "epoch : 100, train loss : 1.1918060779571533\n",
            "epoch : 200, train loss : 1.013495922088623\n",
            "epoch : 300, train loss : 1.3116763830184937\n",
            "epoch : 400, train loss : 0.5604926943778992\n",
            "epoch : 500, train loss : 0.529731035232544\n",
            "epoch : 600, train loss : 1.2599737644195557\n",
            "epoch : 700, train loss : 0.46583080291748047\n",
            "epoch : 800, train loss : 0.5737015604972839\n",
            "epoch : 900, train loss : 0.4514717757701874\n"
          ]
        }
      ]
    },
    {
      "cell_type": "code",
      "source": [
        "# visualize\n",
        "import seaborn as sns\n",
        "\n",
        "losses_float = [float(loss.cpu().detach().numpy()) for loss in losses] \n",
        "loss_indices = [i for i,l in enumerate(losses_float)] \n",
        "plt = sns.lineplot(loss_indices, losses_float)\n",
        "\n",
        "plt"
      ],
      "metadata": {
        "colab": {
          "base_uri": "https://localhost:8080/",
          "height": 337
        },
        "id": "cWETx_UjW_US",
        "outputId": "d92d134d-ea03-4ba1-cf3a-5631984a5200"
      },
      "execution_count": 18,
      "outputs": [
        {
          "output_type": "stream",
          "name": "stderr",
          "text": [
            "/usr/local/lib/python3.7/dist-packages/seaborn/_decorators.py:43: FutureWarning: Pass the following variables as keyword args: x, y. From version 0.12, the only valid positional argument will be `data`, and passing other arguments without an explicit keyword will result in an error or misinterpretation.\n",
            "  FutureWarning\n"
          ]
        },
        {
          "output_type": "execute_result",
          "data": {
            "text/plain": [
              "<matplotlib.axes._subplots.AxesSubplot at 0x7eff067c4c90>"
            ]
          },
          "metadata": {},
          "execution_count": 18
        },
        {
          "output_type": "display_data",
          "data": {
            "text/plain": [
              "<Figure size 432x288 with 1 Axes>"
            ],
            "image/png": "[encoded data removed]"
          },
          "metadata": {
            "needs_background": "light"
          }
        }
      ]
    },
    {
      "cell_type": "code",
      "source": [
        "# test\n",
        "\n",
        "test_batch = next(iter(test_loader))    # batchs to one batch\n",
        "with torch.no_grad():\n",
        "  test_batch.to(device)\n",
        "\n",
        "  pred, embedding_table = model(test_batch.x.float(), test_batch.edge_index, test_batch.batch)\n",
        "\n",
        "  print(\"Target : {}\".format(test_batch.y.tolist()[:10]))\n",
        "  print(\"Predict : {}\".format(pred.tolist()[:10]))\n"
      ],
      "metadata": {
        "colab": {
          "base_uri": "https://localhost:8080/"
        },
        "id": "one46LojXEgi",
        "outputId": "7816bec5-82b4-4a61-e5f5-625bb5f99018"
      },
      "execution_count": 19,
      "outputs": [
        {
          "output_type": "stream",
          "name": "stdout",
          "text": [
            "Target : [[-4.743000030517578], [-2.3499999046325684], [-3.2200000286102295], [-5.03000020980835], [-8.399999618530273], [-2.3489999771118164], [-4.521999835968018], [0.15000000596046448], [-4.800000190734863], [-2.878000020980835]]\n",
            "Predict : [[-4.980221748352051], [-3.460402488708496], [-3.7352352142333984], [-4.904178142547607], [-6.204025745391846], [-2.4301388263702393], [-5.338284015655518], [-0.03923952579498291], [-3.9277448654174805], [-4.342751979827881]]\n"
          ]
        },
        {
          "output_type": "stream",
          "name": "stderr",
          "text": [
            "/usr/local/lib/python3.7/dist-packages/torch/nn/functional.py:1949: UserWarning: nn.functional.tanh is deprecated. Use torch.tanh instead.\n",
            "  warnings.warn(\"nn.functional.tanh is deprecated. Use torch.tanh instead.\")\n"
          ]
        }
      ]
    }
  ]
}