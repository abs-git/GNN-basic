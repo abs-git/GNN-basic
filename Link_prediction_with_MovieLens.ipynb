{
  "nbformat": 4,
  "nbformat_minor": 0,
  "metadata": {
    "colab": {
      "name": "Link_prediction.ipynb",
      "provenance": [],
      "collapsed_sections": [],
      "authorship_tag": "ABX9TyMASrFX4hUxH9pNSDWzjBhO",
      "include_colab_link": true
    },
    "kernelspec": {
      "name": "python3",
      "display_name": "Python 3"
    },
    "language_info": {
      "name": "python"
    },
    "accelerator": "TPU",
    "gpuClass": "standard"
  },
  "cells": [
    {
      "cell_type": "markdown",
      "metadata": {
        "id": "view-in-github",
        "colab_type": "text"
      },
      "source": [
        "<a href=\"https://colab.research.google.com/github/abs-git/GNN/blob/main/Link_prediction.ipynb\" target=\"_parent\"><img src=\"https://colab.research.google.com/assets/colab-badge.svg\" alt=\"Open In Colab\"/></a>"
      ]
    },
    {
      "cell_type": "code",
      "execution_count": 1,
      "metadata": {
        "colab": {
          "base_uri": "https://localhost:8080/"
        },
        "id": "1NA-Wb5YGq2g",
        "outputId": "ef59f2f4-4bab-4841-ad1e-c4afa2aa3668"
      },
      "outputs": [
        {
          "output_type": "stream",
          "name": "stdout",
          "text": [
            "Mounted at /content/gdrive\n"
          ]
        }
      ],
      "source": [
        "from google.colab import drive\n",
        "drive.mount('/content/gdrive')"
      ]
    },
    {
      "cell_type": "code",
      "source": [
        "!pip install torch-scatter torch-sparse torch-cluster torch-spline-conv torch-geometric"
      ],
      "metadata": {
        "id": "yWzjlX_pGxhB"
      },
      "execution_count": null,
      "outputs": []
    },
    {
      "cell_type": "code",
      "source": [
        "!pip install sentence_transformers"
      ],
      "metadata": {
        "id": "TGctszczULcB"
      },
      "execution_count": null,
      "outputs": []
    },
    {
      "cell_type": "markdown",
      "source": [
        "# Data Load"
      ],
      "metadata": {
        "id": "n0HHuTPtKMg2"
      }
    },
    {
      "cell_type": "code",
      "source": [
        "# MovieLens dataset (Heterogeneous data type)\n",
        "\n",
        "from torch_geometric.datasets import MovieLens\n",
        "\n",
        "dataset = MovieLens('movieslens')"
      ],
      "metadata": {
        "id": "cXr_RIdagmNl"
      },
      "execution_count": null,
      "outputs": []
    },
    {
      "cell_type": "code",
      "source": [
        "print(len(dataset))\n",
        "print(dataset[0])"
      ],
      "metadata": {
        "colab": {
          "base_uri": "https://localhost:8080/"
        },
        "id": "QulwfjBPUhS2",
        "outputId": "b5294e8c-0125-46f1-d605-4820c280f03f"
      },
      "execution_count": 5,
      "outputs": [
        {
          "output_type": "stream",
          "name": "stdout",
          "text": [
            "1\n",
            "HeteroData(\n",
            "  \u001b[1mmovie\u001b[0m={ x=[9742, 404] },\n",
            "  \u001b[1muser\u001b[0m={ num_nodes=610 },\n",
            "  \u001b[1m(user, rates, movie)\u001b[0m={\n",
            "    edge_index=[2, 100836],\n",
            "    edge_label=[100836]\n",
            "  }\n",
            ")\n"
          ]
        }
      ]
    },
    {
      "cell_type": "code",
      "source": [
        "data = dataset[0]"
      ],
      "metadata": {
        "id": "tkf5Ym6JKv1i"
      },
      "execution_count": 6,
      "outputs": []
    },
    {
      "cell_type": "code",
      "source": [
        "print(data.metadata())\n",
        "print()\n",
        "\n",
        "print('Node types      : {}'.format(data.metadata()[0]))\n",
        "print('Edge types      : {}'.format(data.metadata()[1]))\n",
        "print()\n",
        "\n",
        "print(\"Isolated nodes  : {}\".format(data.has_isolated_nodes()))      # 고립된 노드가 존재한다.\n",
        "print('Self loop       : {}'.format(data.has_self_loops()))\n",
        "print('Undirect        : {}'.format(data.is_undirected()))\n"
      ],
      "metadata": {
        "colab": {
          "base_uri": "https://localhost:8080/"
        },
        "id": "j2jbwRSsKxU-",
        "outputId": "56e37d7b-075a-40f0-cc15-9cf61fca6892"
      },
      "execution_count": 7,
      "outputs": [
        {
          "output_type": "stream",
          "name": "stdout",
          "text": [
            "(['movie', 'user'], [('user', 'rates', 'movie')])\n",
            "\n",
            "Node types      : ['movie', 'user']\n",
            "Edge types      : [('user', 'rates', 'movie')]\n",
            "\n",
            "Isolated nodes  : True\n",
            "Self loop       : False\n",
            "Undirect        : False\n"
          ]
        }
      ]
    },
    {
      "cell_type": "code",
      "source": [
        "import numpy as np\n",
        "\n",
        "print(data['user'])\n",
        "print(data['movie'])\n",
        "print(data['movie']['x'].shape)\n",
        "print()\n",
        "\n",
        "# print(data[('user', 'rates', 'movie')])\n",
        "print(data['rates'])\n",
        "print()\n",
        "\n",
        "print(data['rates']['edge_index'].shape)\n",
        "print(data['rates']['edge_index'][0])\n",
        "print()\n",
        "\n",
        "print(data['rates']['edge_label'].shape)\n",
        "print(data['rates']['edge_label'][:10])\n"
      ],
      "metadata": {
        "colab": {
          "base_uri": "https://localhost:8080/"
        },
        "id": "WP-4tXXVLWWx",
        "outputId": "d447400a-60b8-446f-eb0f-9434be973546"
      },
      "execution_count": 8,
      "outputs": [
        {
          "output_type": "stream",
          "name": "stdout",
          "text": [
            "{'num_nodes': 610}\n",
            "{'x': tensor([[-0.0828,  0.0530,  0.0536,  ...,  0.0000,  0.0000,  0.0000],\n",
            "        [-0.1053,  0.1508, -0.0264,  ...,  0.0000,  0.0000,  0.0000],\n",
            "        [-0.0988,  0.0176, -0.0527,  ...,  0.0000,  0.0000,  0.0000],\n",
            "        ...,\n",
            "        [-0.1115,  0.0310, -0.0177,  ...,  0.0000,  0.0000,  0.0000],\n",
            "        [ 0.0366,  0.0137,  0.0315,  ...,  0.0000,  0.0000,  0.0000],\n",
            "        [-0.0500, -0.0141, -0.0031,  ...,  0.0000,  0.0000,  0.0000]])}\n",
            "torch.Size([9742, 404])\n",
            "\n",
            "{'edge_index': tensor([[   0,    0,    0,  ...,  609,  609,  609],\n",
            "        [   0,    2,    5,  ..., 9462, 9463, 9503]]), 'edge_label': tensor([4, 4, 4,  ..., 5, 5, 3])}\n",
            "\n",
            "torch.Size([2, 100836])\n",
            "tensor([  0,   0,   0,  ..., 609, 609, 609])\n",
            "\n",
            "torch.Size([100836])\n",
            "tensor([4, 4, 4, 5, 5, 3, 5, 4, 5, 5])\n"
          ]
        }
      ]
    },
    {
      "cell_type": "code",
      "source": [
        "print(data['rates'])\n",
        "print(data['rates'].edge_index)\n",
        "print(data['rates'].edge_label)"
      ],
      "metadata": {
        "colab": {
          "base_uri": "https://localhost:8080/"
        },
        "id": "h74X7qDQaBay",
        "outputId": "f303f40c-86dc-499d-e65b-878056831010"
      },
      "execution_count": 9,
      "outputs": [
        {
          "output_type": "stream",
          "name": "stdout",
          "text": [
            "{'edge_index': tensor([[   0,    0,    0,  ...,  609,  609,  609],\n",
            "        [   0,    2,    5,  ..., 9462, 9463, 9503]]), 'edge_label': tensor([4, 4, 4,  ..., 5, 5, 3])}\n",
            "tensor([[   0,    0,    0,  ...,  609,  609,  609],\n",
            "        [   0,    2,    5,  ..., 9462, 9463, 9503]])\n",
            "tensor([4, 4, 4,  ..., 5, 5, 3])\n"
          ]
        }
      ]
    },
    {
      "cell_type": "code",
      "source": [
        "import torch\n",
        "\n",
        "# print(data['user'].x)               # there are no 'x' value\n",
        "print(data['user'].num_nodes)\n",
        "print(torch.eye(data['user'].num_nodes))\n",
        "\n",
        "data['user'].x = torch.eye(data['user'].num_nodes)        # (nodes) -> (nodes, nodes)\n",
        "\n",
        "print(data['user'].x.shape)\n",
        "print(data['user'].x)"
      ],
      "metadata": {
        "colab": {
          "base_uri": "https://localhost:8080/"
        },
        "id": "Co95ixhNtjoy",
        "outputId": "a64b9527-3333-4c48-c864-3e2b1a36069c"
      },
      "execution_count": 10,
      "outputs": [
        {
          "output_type": "stream",
          "name": "stdout",
          "text": [
            "610\n",
            "tensor([[1., 0., 0.,  ..., 0., 0., 0.],\n",
            "        [0., 1., 0.,  ..., 0., 0., 0.],\n",
            "        [0., 0., 1.,  ..., 0., 0., 0.],\n",
            "        ...,\n",
            "        [0., 0., 0.,  ..., 1., 0., 0.],\n",
            "        [0., 0., 0.,  ..., 0., 1., 0.],\n",
            "        [0., 0., 0.,  ..., 0., 0., 1.]])\n",
            "torch.Size([610, 610])\n",
            "tensor([[1., 0., 0.,  ..., 0., 0., 0.],\n",
            "        [0., 1., 0.,  ..., 0., 0., 0.],\n",
            "        [0., 0., 1.,  ..., 0., 0., 0.],\n",
            "        ...,\n",
            "        [0., 0., 0.,  ..., 1., 0., 0.],\n",
            "        [0., 0., 0.,  ..., 0., 1., 0.],\n",
            "        [0., 0., 0.,  ..., 0., 0., 1.]])\n"
          ]
        }
      ]
    },
    {
      "cell_type": "code",
      "source": [
        "import torch_geometric.transforms as T\n",
        "\n",
        "print(data)\n",
        "print()\n",
        "\n",
        "data = T.ToUndirected()(data)       # add a reverse relation (edge_type)\n",
        "\n",
        "print(data)\n",
        "\n",
        "del data['movie', 'rev_rates', 'user'].edge_label\n",
        "\n",
        "print(data)"
      ],
      "metadata": {
        "colab": {
          "base_uri": "https://localhost:8080/"
        },
        "id": "evRf1VzUExDl",
        "outputId": "7fcfbc97-848d-4c33-8a9a-d85ddd0b082b"
      },
      "execution_count": 11,
      "outputs": [
        {
          "output_type": "stream",
          "name": "stdout",
          "text": [
            "HeteroData(\n",
            "  \u001b[1mmovie\u001b[0m={ x=[9742, 404] },\n",
            "  \u001b[1muser\u001b[0m={\n",
            "    num_nodes=610,\n",
            "    x=[610, 610]\n",
            "  },\n",
            "  \u001b[1m(user, rates, movie)\u001b[0m={\n",
            "    edge_index=[2, 100836],\n",
            "    edge_label=[100836]\n",
            "  }\n",
            ")\n",
            "\n",
            "HeteroData(\n",
            "  \u001b[1mmovie\u001b[0m={ x=[9742, 404] },\n",
            "  \u001b[1muser\u001b[0m={\n",
            "    num_nodes=610,\n",
            "    x=[610, 610]\n",
            "  },\n",
            "  \u001b[1m(user, rates, movie)\u001b[0m={\n",
            "    edge_index=[2, 100836],\n",
            "    edge_label=[100836]\n",
            "  },\n",
            "  \u001b[1m(movie, rev_rates, user)\u001b[0m={\n",
            "    edge_index=[2, 100836],\n",
            "    edge_label=[100836]\n",
            "  }\n",
            ")\n",
            "HeteroData(\n",
            "  \u001b[1mmovie\u001b[0m={ x=[9742, 404] },\n",
            "  \u001b[1muser\u001b[0m={\n",
            "    num_nodes=610,\n",
            "    x=[610, 610]\n",
            "  },\n",
            "  \u001b[1m(user, rates, movie)\u001b[0m={\n",
            "    edge_index=[2, 100836],\n",
            "    edge_label=[100836]\n",
            "  },\n",
            "  \u001b[1m(movie, rev_rates, user)\u001b[0m={ edge_index=[2, 100836] }\n",
            ")\n"
          ]
        }
      ]
    },
    {
      "cell_type": "code",
      "source": [
        "\n",
        "counts = torch.bincount(data['user', 'movie'].edge_label)\n",
        "print(counts)\n",
        "print(counts.max())\n",
        "\n",
        "weight = counts.max() / counts\n",
        "\n",
        "print(weight)"
      ],
      "metadata": {
        "colab": {
          "base_uri": "https://localhost:8080/"
        },
        "id": "GxRPxBCKrX5e",
        "outputId": "6a171c3b-1d21-4a2e-fba1-fc2bf07d62e5"
      },
      "execution_count": 12,
      "outputs": [
        {
          "output_type": "stream",
          "name": "stdout",
          "text": [
            "tensor([ 1370,  4602, 13101, 33183, 35369, 13211])\n",
            "tensor(35369)\n",
            "tensor([25.8168,  7.6856,  2.6997,  1.0659,  1.0000,  2.6772])\n"
          ]
        }
      ]
    },
    {
      "cell_type": "code",
      "source": [
        "\n",
        "# Link level split\n",
        "train_data, val_data, test_data = T.RandomLinkSplit(num_val = 0.2, num_test = 0.1, neg_sampling_ratio = 0,\n",
        "                                                    edge_types = [('user', 'rates', 'movie')],\n",
        "                                                    rev_edge_types = [('movie', 'rev_rates', 'user')])(data)\n",
        "\n",
        "print(train_data)\n",
        "# print()\n",
        "# print(val_data)\n",
        "# print()\n",
        "# print(test_data)\n",
        "\n",
        "dataset = (train_data, val_data, test_data)\n"
      ],
      "metadata": {
        "colab": {
          "base_uri": "https://localhost:8080/"
        },
        "id": "HSHPZi2GQmVl",
        "outputId": "51846fdc-ceb6-484e-8065-51479143227d"
      },
      "execution_count": 13,
      "outputs": [
        {
          "output_type": "stream",
          "name": "stdout",
          "text": [
            "HeteroData(\n",
            "  \u001b[1mmovie\u001b[0m={ x=[9742, 404] },\n",
            "  \u001b[1muser\u001b[0m={\n",
            "    num_nodes=610,\n",
            "    x=[610, 610]\n",
            "  },\n",
            "  \u001b[1m(user, rates, movie)\u001b[0m={\n",
            "    edge_index=[2, 70586],\n",
            "    edge_label=[70586],\n",
            "    edge_label_index=[2, 70586]\n",
            "  },\n",
            "  \u001b[1m(movie, rev_rates, user)\u001b[0m={ edge_index=[2, 70586] }\n",
            ")\n"
          ]
        }
      ]
    },
    {
      "cell_type": "markdown",
      "source": [
        "# Model"
      ],
      "metadata": {
        "id": "4za9bpFcL1G0"
      }
    },
    {
      "cell_type": "code",
      "source": [
        "import torch\n",
        "import torch.nn as nn\n",
        "import torch.nn.functional as F\n",
        "\n",
        "from torch_geometric.nn import to_hetero\n",
        "from torch_geometric.nn import HeteroConv, GCNConv, SAGEConv, GATConv, Linear\n",
        "\n",
        "\n",
        "class Graph_Encoder(nn.Module):\n",
        "  def __init__(self, hidden_channels, out_channels, conv_type):\n",
        "    super().__init__()\n",
        "    conv = conv_type\n",
        "\n",
        "    self.conv1 = conv((-1,-1), hidden_channels)\n",
        "    self.conv2 = conv((-1,-1), out_channels)\n",
        "\n",
        "  def forward(self, x, edge_index):\n",
        "    X = self.conv1(x, edge_index)\n",
        "    X = F.relu(X)\n",
        "    X = self.conv2(x, edge_index)\n",
        "    return X\n",
        "\n",
        "\n",
        "class Edge_Decoder(nn.Module):\n",
        "  def __init__(self, hidden_channels):\n",
        "    super().__init__()\n",
        "    \n",
        "    self.linear1 = Linear(hidden_channels * 2, hidden_channels)\n",
        "    self.linear2 = Linear(hidden_channels, 1)\n",
        "\n",
        "  def forward(self, z_dict, edge_label_index):\n",
        "    row, col = edge_label_index               # row : ('user', 'rates', 'movie'), col : ('movie', 'rev_rates', 'user')\n",
        "\n",
        "    # print(z_dict['user'][row])\n",
        "    # print(z_dict['movie'][col])\n",
        "    # print()\n",
        "\n",
        "    Z = torch.cat([z_dict['user'][row], z_dict['movie'][col]], dim = -1)\n",
        "    # print(Z)\n",
        "\n",
        "    Z = self.linear1(Z)\n",
        "    Z = F.relu(Z)\n",
        "    Z = self.linear2(Z)\n",
        "    Z = Z.view(-1)\n",
        "\n",
        "    return Z\n",
        "\n",
        "\n",
        "class Model(nn.Module):\n",
        "  def __init__(self, hidden_channels, conv_type, data):\n",
        "    super().__init__()\n",
        "\n",
        "    conv = conv_type\n",
        "\n",
        "    self.encoder = Graph_Encoder(hidden_channels, hidden_channels, conv)\n",
        "    self.hetero_encoder = to_hetero(self.encoder, data.metadata(), aggr = 'sum')\n",
        "    self.decoder = Edge_Decoder(hidden_channels)\n",
        "\n",
        "  def forward(self, x_dict, edge_index_dict, edge_label_index):\n",
        "\n",
        "    z_dict = self.hetero_encoder(x_dict, edge_index_dict)\n",
        "    output = self.decoder(z_dict, edge_label_index)\n",
        "\n",
        "    return output\n",
        "\n"
      ],
      "metadata": {
        "id": "r9vHxo3DL3HG"
      },
      "execution_count": 14,
      "outputs": []
    },
    {
      "cell_type": "code",
      "source": [
        "# train data\n",
        "print(train_data.metadata())\n",
        "print()\n",
        "\n",
        "print(train_data.x_dict)\n",
        "print(train_data.edge_index_dict)\n",
        "print(train_data['user', 'rates', 'movie'].edge_label_index)\n",
        "\n",
        "x_dict = train_data.x_dict\n",
        "edge_index_dict = train_data.edge_index_dict\n",
        "edge_label_index = train_data['user', 'rates', 'movie'].edge_label_index\n"
      ],
      "metadata": {
        "colab": {
          "base_uri": "https://localhost:8080/"
        },
        "id": "6YE5ecQ7Tqmn",
        "outputId": "2f09f8f7-51ed-4d9a-b5c9-914d558d21d0"
      },
      "execution_count": 15,
      "outputs": [
        {
          "output_type": "stream",
          "name": "stdout",
          "text": [
            "(['movie', 'user'], [('user', 'rates', 'movie'), ('movie', 'rev_rates', 'user')])\n",
            "\n",
            "{'movie': tensor([[-0.0828,  0.0530,  0.0536,  ...,  0.0000,  0.0000,  0.0000],\n",
            "        [-0.1053,  0.1508, -0.0264,  ...,  0.0000,  0.0000,  0.0000],\n",
            "        [-0.0988,  0.0176, -0.0527,  ...,  0.0000,  0.0000,  0.0000],\n",
            "        ...,\n",
            "        [-0.1115,  0.0310, -0.0177,  ...,  0.0000,  0.0000,  0.0000],\n",
            "        [ 0.0366,  0.0137,  0.0315,  ...,  0.0000,  0.0000,  0.0000],\n",
            "        [-0.0500, -0.0141, -0.0031,  ...,  0.0000,  0.0000,  0.0000]]), 'user': tensor([[1., 0., 0.,  ..., 0., 0., 0.],\n",
            "        [0., 1., 0.,  ..., 0., 0., 0.],\n",
            "        [0., 0., 1.,  ..., 0., 0., 0.],\n",
            "        ...,\n",
            "        [0., 0., 0.,  ..., 1., 0., 0.],\n",
            "        [0., 0., 0.,  ..., 0., 1., 0.],\n",
            "        [0., 0., 0.,  ..., 0., 0., 1.]])}\n",
            "{('user', 'rates', 'movie'): tensor([[ 482,  586,  154,  ...,  494,  293,  562],\n",
            "        [4018, 1164, 1154,  ..., 7767, 2538, 3287]]), ('movie', 'rev_rates', 'user'): tensor([[4018, 1164, 1154,  ..., 7767, 2538, 3287],\n",
            "        [ 482,  586,  154,  ...,  494,  293,  562]])}\n",
            "tensor([[ 482,  586,  154,  ...,  494,  293,  562],\n",
            "        [4018, 1164, 1154,  ..., 7767, 2538, 3287]])\n"
          ]
        }
      ]
    },
    {
      "cell_type": "markdown",
      "source": [
        "![image.png](data:image/png;base64,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)"
      ],
      "metadata": {
        "id": "hZuFYAwsVqav"
      }
    },
    {
      "cell_type": "code",
      "source": [
        "hidden_channels = 32\n",
        "conv_type = SAGEConv\n",
        "\n",
        "encoder = Graph_Encoder(hidden_channels, hidden_channels, conv_type)\n",
        "print(\"========= encoder ========= \\n {}\".format(encoder))\n",
        "print()\n",
        "\n",
        "hetero_encoder = to_hetero(encoder, train_data.metadata(), aggr = 'sum')\n",
        "print(\"===== hetero encoder ===== \\n {}\".format(hetero_encoder))\n",
        "print()\n",
        "\n",
        "\n",
        "encoder_output = hetero_encoder(x_dict, edge_index_dict)\n",
        "print(encoder_output)\n",
        "print()\n",
        "print(encoder_output['movie'].shape)\n",
        "print(encoder_output['user'].shape)\n"
      ],
      "metadata": {
        "colab": {
          "base_uri": "https://localhost:8080/"
        },
        "id": "62VSzcQ3GKZV",
        "outputId": "aa055935-7331-47d3-8514-3d9e911d41c1"
      },
      "execution_count": 16,
      "outputs": [
        {
          "output_type": "stream",
          "name": "stdout",
          "text": [
            "========= encoder ========= \n",
            " Graph_Encoder(\n",
            "  (conv1): SAGEConv((-1, -1), 32)\n",
            "  (conv2): SAGEConv((-1, -1), 32)\n",
            ")\n",
            "\n",
            "===== hetero encoder ===== \n",
            " GraphModule(\n",
            "  (conv1): ModuleDict(\n",
            "    (movie): SAGEConv((-1, -1), 32)\n",
            "    (user): SAGEConv((-1, -1), 32)\n",
            "  )\n",
            "  (conv2): ModuleDict(\n",
            "    (user__rates__movie): SAGEConv((-1, -1), 32)\n",
            "    (movie__rev_rates__user): SAGEConv((-1, -1), 32)\n",
            "  )\n",
            ")\n",
            "\n",
            "\n",
            "\n",
            "def forward(self, x, edge_index):\n",
            "    x__movie = x.get('movie')\n",
            "    x__user = x.get('user');  x = None\n",
            "    edge_index__user__rates__movie = edge_index.get(('user', 'rates', 'movie'))\n",
            "    edge_index__movie__rev_rates__user = edge_index.get(('movie', 'rev_rates', 'user'));  edge_index = None\n",
            "    conv2__movie = self.conv2.user__rates__movie((x__user, x__movie), edge_index__user__rates__movie);  edge_index__user__rates__movie = None\n",
            "    conv2__user = self.conv2.movie__rev_rates__user((x__movie, x__user), edge_index__movie__rev_rates__user);  x__movie = x__user = edge_index__movie__rev_rates__user = None\n",
            "    return {'movie': conv2__movie, 'user': conv2__user}\n",
            "    \n",
            "\n",
            "{'movie': tensor([[-0.0012, -0.0661,  0.0627,  ...,  0.0005, -0.0566,  0.0778],\n",
            "        [-0.0828, -0.0417, -0.0195,  ...,  0.0161, -0.0402,  0.0075],\n",
            "        [ 0.0249,  0.0362,  0.0379,  ...,  0.0237,  0.0166, -0.0177],\n",
            "        ...,\n",
            "        [ 0.0119, -0.0138, -0.0380,  ...,  0.0231,  0.0457,  0.0381],\n",
            "        [ 0.0972, -0.0582,  0.0658,  ...,  0.0554,  0.0701,  0.0490],\n",
            "        [ 0.0723,  0.0616, -0.0052,  ...,  0.0057,  0.0167,  0.0076]],\n",
            "       grad_fn=<AddBackward0>), 'user': tensor([[-0.0335, -0.0500, -0.0725,  ...,  0.0934, -0.0290, -0.0090],\n",
            "        [-0.0094, -0.0070, -0.0306,  ...,  0.0257, -0.0391,  0.0218],\n",
            "        [ 0.0244, -0.0635, -0.0210,  ...,  0.0740, -0.0322, -0.0570],\n",
            "        ...,\n",
            "        [-0.0047, -0.0699, -0.0464,  ...,  0.0578, -0.0220, -0.0207],\n",
            "        [-0.0067, -0.0666, -0.0278,  ...,  0.0234, -0.0085, -0.0122],\n",
            "        [-0.0323, -0.0648,  0.0103,  ...,  0.0675, -0.0294, -0.0328]],\n",
            "       grad_fn=<AddBackward0>)}\n",
            "\n",
            "torch.Size([9742, 32])\n",
            "torch.Size([610, 32])\n"
          ]
        }
      ]
    },
    {
      "cell_type": "code",
      "source": [
        "decoder = Edge_Decoder(hidden_channels)\n",
        "print(\"======== decoder ======== \\n {}\".format(decoder))\n",
        "\n",
        "# encoder_output = {'movie' : [tensor], 'user' : [tensor]}\n",
        "# edge_label_index = ('user', 'rates', 'movie') : [tensor], ('movie', 'rev_rates', 'user') : [tensor]}\n",
        "\n",
        "output = decoder(encoder_output, edge_label_index)\n",
        "\n",
        "print(output.shape)\n",
        "print(output)"
      ],
      "metadata": {
        "colab": {
          "base_uri": "https://localhost:8080/"
        },
        "id": "IVME96T2N5f6",
        "outputId": "1110ff3a-1c2c-41eb-fabc-d539b7a76a42"
      },
      "execution_count": 17,
      "outputs": [
        {
          "output_type": "stream",
          "name": "stdout",
          "text": [
            "======== decoder ======== \n",
            " Edge_Decoder(\n",
            "  (linear1): Linear(64, 32, bias=True)\n",
            "  (linear2): Linear(32, 1, bias=True)\n",
            ")\n",
            "torch.Size([70586])\n",
            "tensor([0.1097, 0.1230, 0.1075,  ..., 0.1142, 0.0893, 0.1175],\n",
            "       grad_fn=<ViewBackward0>)\n"
          ]
        }
      ]
    },
    {
      "cell_type": "code",
      "source": [
        "model = Model(hidden_channels, conv_type, train_data)\n",
        "print(model)\n",
        "print()\n",
        "\n",
        "output = model(x_dict, edge_index_dict, edge_label_index)\n",
        "print(output.shape)\n",
        "print(output)\n",
        "print()\n",
        "\n",
        "target = train_data['user', 'movie'].edge_label         # rating scores\n",
        "\n",
        "print(target.shape)\n",
        "print(target)"
      ],
      "metadata": {
        "colab": {
          "base_uri": "https://localhost:8080/"
        },
        "id": "AppOfJ3JV9bi",
        "outputId": "089cf7db-ad4e-401b-dfe5-a748b0391d2e"
      },
      "execution_count": 18,
      "outputs": [
        {
          "output_type": "stream",
          "name": "stdout",
          "text": [
            "Model(\n",
            "  (encoder): Graph_Encoder(\n",
            "    (conv1): SAGEConv((-1, -1), 32)\n",
            "    (conv2): SAGEConv((-1, -1), 32)\n",
            "  )\n",
            "  (hetero_encoder): GraphModule(\n",
            "    (conv1): ModuleDict(\n",
            "      (movie): SAGEConv((-1, -1), 32)\n",
            "      (user): SAGEConv((-1, -1), 32)\n",
            "    )\n",
            "    (conv2): ModuleDict(\n",
            "      (user__rates__movie): SAGEConv((-1, -1), 32)\n",
            "      (movie__rev_rates__user): SAGEConv((-1, -1), 32)\n",
            "    )\n",
            "  )\n",
            "  (decoder): Edge_Decoder(\n",
            "    (linear1): Linear(64, 32, bias=True)\n",
            "    (linear2): Linear(32, 1, bias=True)\n",
            "  )\n",
            ")\n",
            "\n",
            "torch.Size([70586])\n",
            "tensor([-0.0297, -0.0400, -0.0420,  ..., -0.0314, -0.0383, -0.0494],\n",
            "       grad_fn=<ViewBackward0>)\n",
            "\n",
            "torch.Size([70586])\n",
            "tensor([1, 5, 3,  ..., 4, 3, 4])\n"
          ]
        }
      ]
    },
    {
      "cell_type": "markdown",
      "source": [
        "# Experiment"
      ],
      "metadata": {
        "id": "hTBPik8qTDZz"
      }
    },
    {
      "cell_type": "code",
      "source": [
        "def trainer(train_data, model, optimizer, weight, criterion):\n",
        "\n",
        "  x_dict = train_data.x_dict\n",
        "  edge_index_dict = train_data.edge_index_dict\n",
        "  edge_label_index = train_data['user', 'rates', 'movie'].edge_label_index\n",
        "  target = train_data['user', 'movie'].edge_label\n",
        "\n",
        "  model.train()\n",
        "  optimizer.zero_grad()\n",
        "\n",
        "  pred = model(x_dict, edge_index_dict, edge_label_index)\n",
        "\n",
        "  loss = criterion(pred, target, weight)\n",
        "\n",
        "  loss.backward()\n",
        "  optimizer.step()\n",
        "\n",
        "  return loss\n",
        "\n",
        "\n",
        "@torch.no_grad()\n",
        "def tester(test_data, model):\n",
        "\n",
        "  x_dict = test_data.x_dict\n",
        "  edge_index_dict = test_data.edge_index_dict\n",
        "  edge_label_index = test_data['user', 'movie'].edge_label_index\n",
        "  target = test_data['user', 'movie'].edge_label\n",
        "\n",
        "  model.eval()\n",
        "\n",
        "  pred = model(x_dict, edge_index_dict, edge_label_index)\n",
        "  pred = pred.clamp(min=0, max = 5)\n",
        "\n",
        "  mse = F.mse_loss(pred, target)\n",
        "  rmse = mse.sqrt()\n",
        "\n",
        "  return rmse\n"
      ],
      "metadata": {
        "id": "NgQim-ATW7xO"
      },
      "execution_count": 19,
      "outputs": []
    },
    {
      "cell_type": "code",
      "source": [
        "# 해당 데이터 셋의 rating 에 해당하는 label들은 불균형하게 분포되어 있기 때문에 학습 과정에서 이를 반영하도록 한다.\n",
        "\n",
        "def weighted_mse_loss(pred, target, weight=None):\n",
        "\n",
        "  if weight is None:\n",
        "    weight = 1.\n",
        "  else:\n",
        "    weight = weight[target].to(pred.dtype)\n",
        "\n",
        "  result = (weight * (pred - target.to(pred.dtype)).pow(2)).mean()\n",
        "\n",
        "  return result"
      ],
      "metadata": {
        "id": "9BDRLUl2p5-Q"
      },
      "execution_count": 20,
      "outputs": []
    },
    {
      "cell_type": "code",
      "source": [
        "print(\"weight : {}\".format(weight))\n",
        "\n",
        "learning_rate = 0.001\n",
        "optimizer = torch.optim.Adam(model.parameters(), lr = learning_rate)\n",
        "criterion = weighted_mse_loss\n",
        "\n",
        "loss = trainer(train_data, model, optimizer, weight, criterion)\n",
        "rmse = tester(train_data, model)\n",
        "\n",
        "print(loss)\n",
        "print(rmse)"
      ],
      "metadata": {
        "id": "eTn2qcgG1Pqg",
        "colab": {
          "base_uri": "https://localhost:8080/"
        },
        "outputId": "8ade412b-06f1-4adf-e302-a457814814e6"
      },
      "execution_count": 22,
      "outputs": [
        {
          "output_type": "stream",
          "name": "stdout",
          "text": [
            "weight : tensor([25.8168,  7.6856,  2.6997,  1.0659,  1.0000,  2.6772])\n",
            "tensor(19.4649, grad_fn=<MeanBackward0>)\n",
            "tensor(3.5143)\n"
          ]
        }
      ]
    },
    {
      "cell_type": "code",
      "source": [
        "from collections import defaultdict\n",
        "\n",
        "def experiment(dataset, model, optimizer, weight, criterion, EPOCHS):\n",
        "\n",
        "  train_data, val_data, test_data = dataset\n",
        "\n",
        "  scores = defaultdict(list)\n",
        "  best_score_index = 0\n",
        "\n",
        "  for epoch in range(EPOCHS):\n",
        "    scores['loss'] += [trainer(train_data, model, optimizer, weight, criterion).item()]\n",
        "\n",
        "    scores['train_rmse'] += [tester(train_data, model).item()]\n",
        "    scores['val_rmse'] += [tester(val_data, model).item()]\n",
        "    scores['test_rmse'] += [tester(test_data, model).item()]\n",
        "\n",
        "    if epoch % 10 == 0:\n",
        "      print(\"epoch : {}, train rmse : {}\".format(epoch, scores['train_rmse'][-1]))\n",
        "\n",
        "  return dict(scores)\n"
      ],
      "metadata": {
        "id": "DVWLh9PPZaJ0"
      },
      "execution_count": 35,
      "outputs": []
    },
    {
      "cell_type": "code",
      "source": [
        "EPOCHS = 100\n",
        "\n",
        "scores = experiment(dataset, model, optimizer, weight, criterion, EPOCHS)"
      ],
      "metadata": {
        "colab": {
          "base_uri": "https://localhost:8080/"
        },
        "id": "qzgD8xdyzMzi",
        "outputId": "1a311904-e1ac-4ba6-a7ff-e39bc00b6937"
      },
      "execution_count": 25,
      "outputs": [
        {
          "output_type": "stream",
          "name": "stdout",
          "text": [
            "epoch : 0, train rmse : 3.4912338256835938\n"
          ]
        }
      ]
    },
    {
      "cell_type": "code",
      "source": [
        "print(scores['loss'][:5])\n",
        "print(scores['train_rmse'][:5])\n",
        "print(scores['val_rmse'][:5])\n",
        "print(scores['test_rmse'][:5])"
      ],
      "metadata": {
        "colab": {
          "base_uri": "https://localhost:8080/"
        },
        "id": "Llznp8eJx_M2",
        "outputId": "d2c43f6c-e46b-402d-c5de-914463550fa3"
      },
      "execution_count": 26,
      "outputs": [
        {
          "output_type": "stream",
          "name": "stdout",
          "text": [
            "[19.210744857788086, 18.94671058654785, 18.674964904785156, 18.397966384887695, 18.115924835205078]\n",
            "[3.4912338256835938, 3.4662461280822754, 3.440521478652954, 3.4140563011169434, 3.3865411281585693]\n",
            "[3.4848899841308594, 3.459958553314209, 3.434295892715454, 3.407921552658081, 3.380488395690918]\n",
            "[3.489051103591919, 3.464153528213501, 3.4385225772857666, 3.412156581878662, 3.3847506046295166]\n"
          ]
        }
      ]
    },
    {
      "cell_type": "code",
      "source": [
        "import matplotlib.pyplot as plt\n",
        "\n",
        "fig, axes = plt.subplots(1,2, figsize = (10,5))\n",
        "\n",
        "# loss\n",
        "axes[0].plot(scores['loss'], c = 'r', linestyle = 'solid', linewidth = 3)\n",
        "\n",
        "# axes[0].set_ylim(0,5)\n",
        "\n",
        "axes[0].grid()\n",
        "\n",
        "axes[0].set_title(\"Loss\", fontsize=20)\n",
        "axes[0].set_xlabel('Epoch', fontsize = 20)\n",
        "axes[0].set_ylabel('Score', fontsize = 20)\n",
        "\n",
        "axes[0].legend(['train loss'], fontsize = 15)\n",
        "\n",
        "\n",
        "# rmse\n",
        "axes[1].plot(scores['train_rmse'], c = 'r', linestyle = 'dashed', linewidth = 3)\n",
        "axes[1].plot(scores['val_rmse'], c = 'b', linestyle = 'dashed', linewidth = 3)\n",
        "axes[1].plot(scores['test_rmse'], c = 'g', linestyle = 'dashed', linewidth = 3)\n",
        "\n",
        "# axes[1].set_ylim(0,2)\n",
        "\n",
        "axes[1].grid()\n",
        "\n",
        "axes[1].set_title(\"RMSE\", fontsize=20)\n",
        "axes[1].set_xlabel('Epoch', fontsize = 20)\n",
        "axes[1].set_ylabel('Score', fontsize = 20)\n",
        "\n",
        "axes[1].legend(['train RMSE', 'val RMSE', 'test RMSE'], fontsize = 15)\n",
        "\n",
        "\n",
        "# plot\n",
        "plt.show()\n",
        "\n"
      ],
      "metadata": {
        "colab": {
          "base_uri": "https://localhost:8080/",
          "height": 364
        },
        "id": "mXTkRHCgpxHk",
        "outputId": "b801b060-a00b-4dbb-a190-77a26b89d7b1"
      },
      "execution_count": 27,
      "outputs": [
        {
          "output_type": "display_data",
          "data": {
            "text/plain": [
              "<Figure size 720x360 with 2 Axes>"
            ],
            "image/png": "[encoded data removed]"
          },
          "metadata": {
            "needs_background": "light"
          }
        }
      ]
    },
    {
      "cell_type": "markdown",
      "source": [
        "# Hyperparameter Tuning"
      ],
      "metadata": {
        "id": "E6mfjuBQ4_PD"
      }
    },
    {
      "cell_type": "code",
      "source": [
        "from itertools import product\n",
        "import pandas as pd\n",
        "\n",
        "i = 0\n",
        "\n",
        "# hyperparameters\n",
        "hidden_channels = [16, 32, 64]\n",
        "learning_rates = [0.01, 0.005, 0.001]\n",
        "conv_types = [SAGEConv, GATConv]\n",
        "\n",
        "EPOCHS = 100\n",
        "\n",
        "# grid search\n",
        "\n",
        "cols = ['hidden channels', 'learning rate', 'conv type', 'train loss', 'train RMSE', 'val RMSE', 'test RMSE']\n",
        "best_perform_df = pd.DataFrame(columns = cols)\n",
        "\n",
        "scores_dict = defaultdict(lambda: dict)\n",
        "for hc, lr, ct in product(hidden_channels, learning_rates, conv_types):\n",
        "  i += 1\n",
        "\n",
        "  conv_name = str(ct).split('.')[-1].replace('\\'>', \"\")\n",
        "  print('case :{}, hidden channels : {}, learning rate : {}, conv type : {}'.format(i, hc, lr, conv_name))\n",
        "  \n",
        "  # create model\n",
        "  model = Model(hc, ct, data)\n",
        "\n",
        "  optimizer = torch.optim.Adam(model.parameters(), lr = lr)\n",
        "  criterion = weighted_mse_loss\n",
        "\n",
        "  # experiment\n",
        "  scores = experiment(dataset, model, optimizer, weight, criterion, EPOCHS)\n",
        "\n",
        "  # scores save\n",
        "  scores_dict[i] = scores\n",
        "\n",
        "  best_perform_idx = np.argmin(np.array(scores['val_rmse']) + np.array(scores['test_rmse']))\n",
        "  best_perform_df.loc[i] = [hc,\n",
        "                            lr,\n",
        "                            conv_name,\n",
        "                            scores['loss'][best_perform_idx],\n",
        "                            scores['train_rmse'][best_perform_idx],\n",
        "                            scores['val_rmse'][best_perform_idx],\n",
        "                            scores['test_rmse'][best_perform_idx]]\n",
        "  \n",
        "\n",
        "best_perform_df = best_perform_df.sort_values(by='test RMSE')\n",
        "scores_dict = dict(scores_dict)\n"
      ],
      "metadata": {
        "id": "oR5iZZSi49qv",
        "colab": {
          "base_uri": "https://localhost:8080/"
        },
        "outputId": "9d25be11-1ca1-4cfd-bb0b-0bb90e36b7eb"
      },
      "execution_count": 36,
      "outputs": [
        {
          "output_type": "stream",
          "name": "stdout",
          "text": [
            "case :1, hidden channels : 16, learning rate : 0.01, conv type : SAGEConv\n",
            "epoch : 0, train rmse : 3.2848639488220215\n",
            "epoch : 10, train rmse : 1.091429591178894\n",
            "epoch : 20, train rmse : 1.420609712600708\n",
            "epoch : 30, train rmse : 1.2076820135116577\n",
            "epoch : 40, train rmse : 1.0894900560379028\n",
            "epoch : 50, train rmse : 1.2048064470291138\n",
            "epoch : 60, train rmse : 1.1952065229415894\n",
            "epoch : 70, train rmse : 1.1685497760772705\n",
            "epoch : 80, train rmse : 1.136773705482483\n",
            "epoch : 90, train rmse : 1.123534917831421\n",
            "case :2, hidden channels : 16, learning rate : 0.01, conv type : GATConv\n",
            "epoch : 0, train rmse : 3.5249674320220947\n",
            "epoch : 10, train rmse : 2.300977945327759\n",
            "epoch : 20, train rmse : 1.1535323858261108\n",
            "epoch : 30, train rmse : 1.6595497131347656\n",
            "epoch : 40, train rmse : 1.140928030014038\n",
            "epoch : 50, train rmse : 1.3673347234725952\n",
            "epoch : 60, train rmse : 1.1599571704864502\n",
            "epoch : 70, train rmse : 1.2508313655853271\n",
            "epoch : 80, train rmse : 1.26303231716156\n",
            "epoch : 90, train rmse : 1.2219195365905762\n",
            "case :3, hidden channels : 16, learning rate : 0.005, conv type : SAGEConv\n",
            "epoch : 0, train rmse : 3.3272876739501953\n",
            "epoch : 10, train rmse : 2.7500085830688477\n",
            "epoch : 20, train rmse : 1.2117398977279663\n",
            "epoch : 30, train rmse : 1.2776793241500854\n",
            "epoch : 40, train rmse : 1.4933851957321167\n",
            "epoch : 50, train rmse : 1.1506696939468384\n",
            "epoch : 60, train rmse : 1.2609432935714722\n",
            "epoch : 70, train rmse : 1.1598913669586182\n",
            "epoch : 80, train rmse : 1.1373039484024048\n",
            "epoch : 90, train rmse : 1.1836810111999512\n",
            "case :4, hidden channels : 16, learning rate : 0.005, conv type : GATConv\n",
            "epoch : 0, train rmse : 3.5249674320220947\n",
            "epoch : 10, train rmse : 2.8683767318725586\n",
            "epoch : 20, train rmse : 1.08223557472229\n",
            "epoch : 30, train rmse : 1.4940468072891235\n",
            "epoch : 40, train rmse : 1.4890233278274536\n",
            "epoch : 50, train rmse : 1.1909135580062866\n",
            "epoch : 60, train rmse : 1.3561888933181763\n",
            "epoch : 70, train rmse : 1.204394817352295\n",
            "epoch : 80, train rmse : 1.2329570055007935\n",
            "epoch : 90, train rmse : 1.2002557516098022\n",
            "case :5, hidden channels : 16, learning rate : 0.001, conv type : SAGEConv\n",
            "epoch : 0, train rmse : 3.3802437782287598\n",
            "epoch : 10, train rmse : 3.1521668434143066\n",
            "epoch : 20, train rmse : 2.8363254070281982\n",
            "epoch : 30, train rmse : 2.3583133220672607\n",
            "epoch : 40, train rmse : 1.744803786277771\n",
            "epoch : 50, train rmse : 1.2800828218460083\n",
            "epoch : 60, train rmse : 1.2046600580215454\n",
            "epoch : 70, train rmse : 1.3070611953735352\n",
            "epoch : 80, train rmse : 1.3556736707687378\n",
            "epoch : 90, train rmse : 1.3065574169158936\n",
            "case :6, hidden channels : 16, learning rate : 0.001, conv type : GATConv\n",
            "epoch : 0, train rmse : 3.326037883758545\n",
            "epoch : 10, train rmse : 3.2314107418060303\n",
            "epoch : 20, train rmse : 3.1135761737823486\n",
            "epoch : 30, train rmse : 2.926926374435425\n",
            "epoch : 40, train rmse : 2.653918981552124\n",
            "epoch : 50, train rmse : 2.283311128616333\n",
            "epoch : 60, train rmse : 1.8392444849014282\n",
            "epoch : 70, train rmse : 1.444504737854004\n",
            "epoch : 80, train rmse : 1.2681159973144531\n",
            "epoch : 90, train rmse : 1.282881736755371\n",
            "case :7, hidden channels : 32, learning rate : 0.01, conv type : SAGEConv\n",
            "epoch : 0, train rmse : 3.400313377380371\n",
            "epoch : 10, train rmse : 1.6081912517547607\n",
            "epoch : 20, train rmse : 1.0246663093566895\n",
            "epoch : 30, train rmse : 1.3228175640106201\n",
            "epoch : 40, train rmse : 1.219123125076294\n",
            "epoch : 50, train rmse : 1.2259581089019775\n",
            "epoch : 60, train rmse : 1.123016357421875\n",
            "epoch : 70, train rmse : 1.1314328908920288\n",
            "epoch : 80, train rmse : 1.1172702312469482\n",
            "epoch : 90, train rmse : 1.110438346862793\n",
            "case :8, hidden channels : 32, learning rate : 0.01, conv type : GATConv\n",
            "epoch : 0, train rmse : 3.423130750656128\n",
            "epoch : 10, train rmse : 1.3439756631851196\n",
            "epoch : 20, train rmse : 1.2036800384521484\n",
            "epoch : 30, train rmse : 1.4563055038452148\n",
            "epoch : 40, train rmse : 1.1897597312927246\n",
            "epoch : 50, train rmse : 1.2246265411376953\n",
            "epoch : 60, train rmse : 1.1780592203140259\n",
            "epoch : 70, train rmse : 1.2063554525375366\n",
            "epoch : 80, train rmse : 1.2226016521453857\n",
            "epoch : 90, train rmse : 1.206056833267212\n",
            "case :9, hidden channels : 32, learning rate : 0.005, conv type : SAGEConv\n",
            "epoch : 0, train rmse : 3.4214963912963867\n",
            "epoch : 10, train rmse : 1.1372296810150146\n",
            "epoch : 20, train rmse : 1.7383512258529663\n",
            "epoch : 30, train rmse : 1.0506380796432495\n",
            "epoch : 40, train rmse : 1.2658356428146362\n",
            "epoch : 50, train rmse : 1.1494495868682861\n",
            "epoch : 60, train rmse : 1.1422699689865112\n",
            "epoch : 70, train rmse : 1.1592761278152466\n",
            "epoch : 80, train rmse : 1.1321337223052979\n",
            "epoch : 90, train rmse : 1.121730089187622\n",
            "case :10, hidden channels : 32, learning rate : 0.005, conv type : GATConv\n",
            "epoch : 0, train rmse : 3.51108455657959\n",
            "epoch : 10, train rmse : 1.172063946723938\n",
            "epoch : 20, train rmse : 1.674763560295105\n",
            "epoch : 30, train rmse : 1.2434217929840088\n",
            "epoch : 40, train rmse : 1.343508243560791\n",
            "epoch : 50, train rmse : 1.2129095792770386\n",
            "epoch : 60, train rmse : 1.2039904594421387\n",
            "epoch : 70, train rmse : 1.2460588216781616\n",
            "epoch : 80, train rmse : 1.2210882902145386\n",
            "epoch : 90, train rmse : 1.2145723104476929\n",
            "case :11, hidden channels : 32, learning rate : 0.001, conv type : SAGEConv\n",
            "epoch : 0, train rmse : 3.4771549701690674\n",
            "epoch : 10, train rmse : 3.171034336090088\n",
            "epoch : 20, train rmse : 2.6286721229553223\n",
            "epoch : 30, train rmse : 1.724037766456604\n",
            "epoch : 40, train rmse : 1.1482661962509155\n",
            "epoch : 50, train rmse : 1.2509804964065552\n",
            "epoch : 60, train rmse : 1.4152268171310425\n",
            "epoch : 70, train rmse : 1.3144662380218506\n",
            "epoch : 80, train rmse : 1.222943663597107\n",
            "epoch : 90, train rmse : 1.2391849756240845\n",
            "case :12, hidden channels : 32, learning rate : 0.001, conv type : GATConv\n",
            "epoch : 0, train rmse : 3.454876184463501\n",
            "epoch : 10, train rmse : 3.2874884605407715\n",
            "epoch : 20, train rmse : 3.0218281745910645\n",
            "epoch : 30, train rmse : 2.5245649814605713\n",
            "epoch : 40, train rmse : 1.7473549842834473\n",
            "epoch : 50, train rmse : 1.184960961341858\n",
            "epoch : 60, train rmse : 1.2372092008590698\n",
            "epoch : 70, train rmse : 1.4216824769973755\n",
            "epoch : 80, train rmse : 1.3991730213165283\n",
            "epoch : 90, train rmse : 1.3119949102401733\n",
            "case :13, hidden channels : 64, learning rate : 0.01, conv type : SAGEConv\n",
            "epoch : 0, train rmse : 3.274416923522949\n",
            "epoch : 10, train rmse : 1.4157369136810303\n",
            "epoch : 20, train rmse : 1.4662227630615234\n",
            "epoch : 30, train rmse : 1.3151593208312988\n",
            "epoch : 40, train rmse : 1.2741656303405762\n",
            "epoch : 50, train rmse : 1.1531251668930054\n",
            "epoch : 60, train rmse : 1.111139178276062\n",
            "epoch : 70, train rmse : 1.1055943965911865\n",
            "epoch : 80, train rmse : 1.1092053651809692\n",
            "epoch : 90, train rmse : 1.0940278768539429\n",
            "case :14, hidden channels : 64, learning rate : 0.01, conv type : GATConv\n",
            "epoch : 0, train rmse : 3.450456142425537\n",
            "epoch : 10, train rmse : 2.067129135131836\n",
            "epoch : 20, train rmse : 1.3056564331054688\n",
            "epoch : 30, train rmse : 1.0780785083770752\n",
            "epoch : 40, train rmse : 1.2037434577941895\n",
            "epoch : 50, train rmse : 1.185168743133545\n",
            "epoch : 60, train rmse : 1.197494387626648\n",
            "epoch : 70, train rmse : 1.1233928203582764\n",
            "epoch : 80, train rmse : 1.1327745914459229\n",
            "epoch : 90, train rmse : 1.1177705526351929\n",
            "case :15, hidden channels : 64, learning rate : 0.005, conv type : SAGEConv\n",
            "epoch : 0, train rmse : 3.2997305393218994\n",
            "epoch : 10, train rmse : 1.5040901899337769\n",
            "epoch : 20, train rmse : 1.0268765687942505\n",
            "epoch : 30, train rmse : 1.2700762748718262\n",
            "epoch : 40, train rmse : 1.2482911348342896\n",
            "epoch : 50, train rmse : 1.2342673540115356\n",
            "epoch : 60, train rmse : 1.1716150045394897\n",
            "epoch : 70, train rmse : 1.1242713928222656\n",
            "epoch : 80, train rmse : 1.108039379119873\n",
            "epoch : 90, train rmse : 1.111952304840088\n",
            "case :16, hidden channels : 64, learning rate : 0.005, conv type : GATConv\n",
            "epoch : 0, train rmse : 3.340068817138672\n",
            "epoch : 10, train rmse : 1.0835998058319092\n",
            "epoch : 20, train rmse : 1.5087510347366333\n",
            "epoch : 30, train rmse : 1.314143180847168\n",
            "epoch : 40, train rmse : 1.1167181730270386\n",
            "epoch : 50, train rmse : 1.2679047584533691\n",
            "epoch : 60, train rmse : 1.2683576345443726\n",
            "epoch : 70, train rmse : 1.2149484157562256\n",
            "epoch : 80, train rmse : 1.211557388305664\n",
            "epoch : 90, train rmse : 1.1878588199615479\n",
            "case :17, hidden channels : 64, learning rate : 0.001, conv type : SAGEConv\n",
            "epoch : 0, train rmse : 3.4464833736419678\n",
            "epoch : 10, train rmse : 3.054978847503662\n",
            "epoch : 20, train rmse : 2.1041109561920166\n",
            "epoch : 30, train rmse : 1.1212553977966309\n",
            "epoch : 40, train rmse : 1.28369140625\n",
            "epoch : 50, train rmse : 1.4629647731781006\n",
            "epoch : 60, train rmse : 1.2356524467468262\n",
            "epoch : 70, train rmse : 1.201032280921936\n",
            "epoch : 80, train rmse : 1.2321693897247314\n",
            "epoch : 90, train rmse : 1.1651902198791504\n",
            "case :18, hidden channels : 64, learning rate : 0.001, conv type : GATConv\n",
            "epoch : 0, train rmse : 3.5249674320220947\n",
            "epoch : 10, train rmse : 3.254502534866333\n",
            "epoch : 20, train rmse : 2.3847758769989014\n",
            "epoch : 30, train rmse : 1.166548490524292\n",
            "epoch : 40, train rmse : 1.2100945711135864\n",
            "epoch : 50, train rmse : 1.5274606943130493\n",
            "epoch : 60, train rmse : 1.3396711349487305\n",
            "epoch : 70, train rmse : 1.2635563611984253\n",
            "epoch : 80, train rmse : 1.3328876495361328\n",
            "epoch : 90, train rmse : 1.265063762664795\n"
          ]
        }
      ]
    },
    {
      "cell_type": "code",
      "source": [
        "best_perform_df"
      ],
      "metadata": {
        "colab": {
          "base_uri": "https://localhost:8080/",
          "height": 614
        },
        "id": "YmEwdUnB2lRn",
        "outputId": "445928d8-d8a8-400b-c013-e3e66d02e8de"
      },
      "execution_count": 37,
      "outputs": [
        {
          "output_type": "execute_result",
          "data": {
            "text/plain": [
              "   hidden channels  learning rate conv type  train loss  train RMSE  val RMSE  \\\n",
              "13              64          0.010  SAGEConv    5.718681    1.002398  1.010478   \n",
              "7               32          0.010  SAGEConv    5.550772    1.018821  1.028035   \n",
              "15              64          0.005  SAGEConv    5.358473    1.026877  1.035581   \n",
              "1               16          0.010  SAGEConv    5.271938    1.041435  1.049695   \n",
              "9               32          0.005  SAGEConv    5.273112    1.050638  1.058550   \n",
              "14              64          0.010   GATConv    6.343907    1.044081  1.060143   \n",
              "10              32          0.005   GATConv    8.377360    1.078890  1.082638   \n",
              "8               32          0.010   GATConv    9.041144    1.078006  1.083168   \n",
              "4               16          0.005   GATConv    7.832955    1.078984  1.082812   \n",
              "2               16          0.010   GATConv    8.285886    1.080211  1.083823   \n",
              "16              64          0.005   GATConv    6.085167    1.084709  1.087211   \n",
              "3               16          0.005  SAGEConv    7.050189    1.089184  1.091449   \n",
              "18              64          0.001   GATConv    6.881749    1.092491  1.096377   \n",
              "17              64          0.001  SAGEConv    6.662291    1.104544  1.106065   \n",
              "11              32          0.001  SAGEConv    6.311408    1.136814  1.138548   \n",
              "12              32          0.001   GATConv    6.344672    1.157971  1.161537   \n",
              "5               16          0.001  SAGEConv    5.983406    1.197190  1.198713   \n",
              "6               16          0.001   GATConv    6.095913    1.258593  1.259467   \n",
              "\n",
              "    test RMSE  \n",
              "13   1.018234  \n",
              "7    1.034807  \n",
              "15   1.042500  \n",
              "1    1.056087  \n",
              "9    1.065262  \n",
              "14   1.068179  \n",
              "10   1.093058  \n",
              "8    1.093709  \n",
              "4    1.093762  \n",
              "2    1.094601  \n",
              "16   1.098204  \n",
              "3    1.102593  \n",
              "18   1.107691  \n",
              "17   1.117393  \n",
              "11   1.148992  \n",
              "12   1.172774  \n",
              "5    1.208722  \n",
              "6    1.270320  "
            ],
            "text/html": [
              "\n",
              "  <div id=\"df-ef6583c6-ac19-4416-9441-35feb12778ba\">\n",
              "    <div class=\"colab-df-container\">\n",
              "      <div>\n",
              "<style scoped>\n",
              "    .dataframe tbody tr th:only-of-type {\n",
              "        vertical-align: middle;\n",
              "    }\n",
              "\n",
              "    .dataframe tbody tr th {\n",
              "        vertical-align: top;\n",
              "    }\n",
              "\n",
              "    .dataframe thead th {\n",
              "        text-align: right;\n",
              "    }\n",
              "</style>\n",
              "<table border=\"1\" class=\"dataframe\">\n",
              "  <thead>\n",
              "    <tr style=\"text-align: right;\">\n",
              "      <th></th>\n",
              "      <th>hidden channels</th>\n",
              "      <th>learning rate</th>\n",
              "      <th>conv type</th>\n",
              "      <th>train loss</th>\n",
              "      <th>train RMSE</th>\n",
              "      <th>val RMSE</th>\n",
              "      <th>test RMSE</th>\n",
              "    </tr>\n",
              "  </thead>\n",
              "  <tbody>\n",
              "    <tr>\n",
              "      <th>13</th>\n",
              "      <td>64</td>\n",
              "      <td>0.010</td>\n",
              "      <td>SAGEConv</td>\n",
              "      <td>5.718681</td>\n",
              "      <td>1.002398</td>\n",
              "      <td>1.010478</td>\n",
              "      <td>1.018234</td>\n",
              "    </tr>\n",
              "    <tr>\n",
              "      <th>7</th>\n",
              "      <td>32</td>\n",
              "      <td>0.010</td>\n",
              "      <td>SAGEConv</td>\n",
              "      <td>5.550772</td>\n",
              "      <td>1.018821</td>\n",
              "      <td>1.028035</td>\n",
              "      <td>1.034807</td>\n",
              "    </tr>\n",
              "    <tr>\n",
              "      <th>15</th>\n",
              "      <td>64</td>\n",
              "      <td>0.005</td>\n",
              "      <td>SAGEConv</td>\n",
              "      <td>5.358473</td>\n",
              "      <td>1.026877</td>\n",
              "      <td>1.035581</td>\n",
              "      <td>1.042500</td>\n",
              "    </tr>\n",
              "    <tr>\n",
              "      <th>1</th>\n",
              "      <td>16</td>\n",
              "      <td>0.010</td>\n",
              "      <td>SAGEConv</td>\n",
              "      <td>5.271938</td>\n",
              "      <td>1.041435</td>\n",
              "      <td>1.049695</td>\n",
              "      <td>1.056087</td>\n",
              "    </tr>\n",
              "    <tr>\n",
              "      <th>9</th>\n",
              "      <td>32</td>\n",
              "      <td>0.005</td>\n",
              "      <td>SAGEConv</td>\n",
              "      <td>5.273112</td>\n",
              "      <td>1.050638</td>\n",
              "      <td>1.058550</td>\n",
              "      <td>1.065262</td>\n",
              "    </tr>\n",
              "    <tr>\n",
              "      <th>14</th>\n",
              "      <td>64</td>\n",
              "      <td>0.010</td>\n",
              "      <td>GATConv</td>\n",
              "      <td>6.343907</td>\n",
              "      <td>1.044081</td>\n",
              "      <td>1.060143</td>\n",
              "      <td>1.068179</td>\n",
              "    </tr>\n",
              "    <tr>\n",
              "      <th>10</th>\n",
              "      <td>32</td>\n",
              "      <td>0.005</td>\n",
              "      <td>GATConv</td>\n",
              "      <td>8.377360</td>\n",
              "      <td>1.078890</td>\n",
              "      <td>1.082638</td>\n",
              "      <td>1.093058</td>\n",
              "    </tr>\n",
              "    <tr>\n",
              "      <th>8</th>\n",
              "      <td>32</td>\n",
              "      <td>0.010</td>\n",
              "      <td>GATConv</td>\n",
              "      <td>9.041144</td>\n",
              "      <td>1.078006</td>\n",
              "      <td>1.083168</td>\n",
              "      <td>1.093709</td>\n",
              "    </tr>\n",
              "    <tr>\n",
              "      <th>4</th>\n",
              "      <td>16</td>\n",
              "      <td>0.005</td>\n",
              "      <td>GATConv</td>\n",
              "      <td>7.832955</td>\n",
              "      <td>1.078984</td>\n",
              "      <td>1.082812</td>\n",
              "      <td>1.093762</td>\n",
              "    </tr>\n",
              "    <tr>\n",
              "      <th>2</th>\n",
              "      <td>16</td>\n",
              "      <td>0.010</td>\n",
              "      <td>GATConv</td>\n",
              "      <td>8.285886</td>\n",
              "      <td>1.080211</td>\n",
              "      <td>1.083823</td>\n",
              "      <td>1.094601</td>\n",
              "    </tr>\n",
              "    <tr>\n",
              "      <th>16</th>\n",
              "      <td>64</td>\n",
              "      <td>0.005</td>\n",
              "      <td>GATConv</td>\n",
              "      <td>6.085167</td>\n",
              "      <td>1.084709</td>\n",
              "      <td>1.087211</td>\n",
              "      <td>1.098204</td>\n",
              "    </tr>\n",
              "    <tr>\n",
              "      <th>3</th>\n",
              "      <td>16</td>\n",
              "      <td>0.005</td>\n",
              "      <td>SAGEConv</td>\n",
              "      <td>7.050189</td>\n",
              "      <td>1.089184</td>\n",
              "      <td>1.091449</td>\n",
              "      <td>1.102593</td>\n",
              "    </tr>\n",
              "    <tr>\n",
              "      <th>18</th>\n",
              "      <td>64</td>\n",
              "      <td>0.001</td>\n",
              "      <td>GATConv</td>\n",
              "      <td>6.881749</td>\n",
              "      <td>1.092491</td>\n",
              "      <td>1.096377</td>\n",
              "      <td>1.107691</td>\n",
              "    </tr>\n",
              "    <tr>\n",
              "      <th>17</th>\n",
              "      <td>64</td>\n",
              "      <td>0.001</td>\n",
              "      <td>SAGEConv</td>\n",
              "      <td>6.662291</td>\n",
              "      <td>1.104544</td>\n",
              "      <td>1.106065</td>\n",
              "      <td>1.117393</td>\n",
              "    </tr>\n",
              "    <tr>\n",
              "      <th>11</th>\n",
              "      <td>32</td>\n",
              "      <td>0.001</td>\n",
              "      <td>SAGEConv</td>\n",
              "      <td>6.311408</td>\n",
              "      <td>1.136814</td>\n",
              "      <td>1.138548</td>\n",
              "      <td>1.148992</td>\n",
              "    </tr>\n",
              "    <tr>\n",
              "      <th>12</th>\n",
              "      <td>32</td>\n",
              "      <td>0.001</td>\n",
              "      <td>GATConv</td>\n",
              "      <td>6.344672</td>\n",
              "      <td>1.157971</td>\n",
              "      <td>1.161537</td>\n",
              "      <td>1.172774</td>\n",
              "    </tr>\n",
              "    <tr>\n",
              "      <th>5</th>\n",
              "      <td>16</td>\n",
              "      <td>0.001</td>\n",
              "      <td>SAGEConv</td>\n",
              "      <td>5.983406</td>\n",
              "      <td>1.197190</td>\n",
              "      <td>1.198713</td>\n",
              "      <td>1.208722</td>\n",
              "    </tr>\n",
              "    <tr>\n",
              "      <th>6</th>\n",
              "      <td>16</td>\n",
              "      <td>0.001</td>\n",
              "      <td>GATConv</td>\n",
              "      <td>6.095913</td>\n",
              "      <td>1.258593</td>\n",
              "      <td>1.259467</td>\n",
              "      <td>1.270320</td>\n",
              "    </tr>\n",
              "  </tbody>\n",
              "</table>\n",
              "</div>\n",
              "      <button class=\"colab-df-convert\" onclick=\"convertToInteractive('df-ef6583c6-ac19-4416-9441-35feb12778ba')\"\n",
              "              title=\"Convert this dataframe to an interactive table.\"\n",
              "              style=\"display:none;\">\n",
              "        \n",
              "  <svg xmlns=\"http://www.w3.org/2000/svg\" height=\"24px\"viewBox=\"0 0 24 24\"\n",
              "       width=\"24px\">\n",
              "    <path d=\"M0 0h24v24H0V0z\" fill=\"none\"/>\n",
              "    <path d=\"M18.56 5.44l.94 2.06.94-2.06 2.06-.94-2.06-.94-.94-2.06-.94 2.06-2.06.94zm-11 1L8.5 8.5l.94-2.06 2.06-.94-2.06-.94L8.5 2.5l-.94 2.06-2.06.94zm10 10l.94 2.06.94-2.06 2.06-.94-2.06-.94-.94-2.06-.94 2.06-2.06.94z\"/><path d=\"M17.41 7.96l-1.37-1.37c-.4-.4-.92-.59-1.43-.59-.52 0-1.04.2-1.43.59L10.3 9.45l-7.72 7.72c-.78.78-.78 2.05 0 2.83L4 21.41c.39.39.9.59 1.41.59.51 0 1.02-.2 1.41-.59l7.78-7.78 2.81-2.81c.8-.78.8-2.07 0-2.86zM5.41 20L4 18.59l7.72-7.72 1.47 1.35L5.41 20z\"/>\n",
              "  </svg>\n",
              "      </button>\n",
              "      \n",
              "  <style>\n",
              "    .colab-df-container {\n",
              "      display:flex;\n",
              "      flex-wrap:wrap;\n",
              "      gap: 12px;\n",
              "    }\n",
              "\n",
              "    .colab-df-convert {\n",
              "      background-color: #E8F0FE;\n",
              "      border: none;\n",
              "      border-radius: 50%;\n",
              "      cursor: pointer;\n",
              "      display: none;\n",
              "      fill: #1967D2;\n",
              "      height: 32px;\n",
              "      padding: 0 0 0 0;\n",
              "      width: 32px;\n",
              "    }\n",
              "\n",
              "    .colab-df-convert:hover {\n",
              "      background-color: #E2EBFA;\n",
              "      box-shadow: 0px 1px 2px rgba(60, 64, 67, 0.3), 0px 1px 3px 1px rgba(60, 64, 67, 0.15);\n",
              "      fill: #174EA6;\n",
              "    }\n",
              "\n",
              "    [theme=dark] .colab-df-convert {\n",
              "      background-color: #3B4455;\n",
              "      fill: #D2E3FC;\n",
              "    }\n",
              "\n",
              "    [theme=dark] .colab-df-convert:hover {\n",
              "      background-color: #434B5C;\n",
              "      box-shadow: 0px 1px 3px 1px rgba(0, 0, 0, 0.15);\n",
              "      filter: drop-shadow(0px 1px 2px rgba(0, 0, 0, 0.3));\n",
              "      fill: #FFFFFF;\n",
              "    }\n",
              "  </style>\n",
              "\n",
              "      <script>\n",
              "        const buttonEl =\n",
              "          document.querySelector('#df-ef6583c6-ac19-4416-9441-35feb12778ba button.colab-df-convert');\n",
              "        buttonEl.style.display =\n",
              "          google.colab.kernel.accessAllowed ? 'block' : 'none';\n",
              "\n",
              "        async function convertToInteractive(key) {\n",
              "          const element = document.querySelector('#df-ef6583c6-ac19-4416-9441-35feb12778ba');\n",
              "          const dataTable =\n",
              "            await google.colab.kernel.invokeFunction('convertToInteractive',\n",
              "                                                     [key], {});\n",
              "          if (!dataTable) return;\n",
              "\n",
              "          const docLinkHtml = 'Like what you see? Visit the ' +\n",
              "            '<a target=\"_blank\" href=https://colab.research.google.com/notebooks/data_table.ipynb>data table notebook</a>'\n",
              "            + ' to learn more about interactive tables.';\n",
              "          element.innerHTML = '';\n",
              "          dataTable['output_type'] = 'display_data';\n",
              "          await google.colab.output.renderOutput(dataTable, element);\n",
              "          const docLink = document.createElement('div');\n",
              "          docLink.innerHTML = docLinkHtml;\n",
              "          element.appendChild(docLink);\n",
              "        }\n",
              "      </script>\n",
              "    </div>\n",
              "  </div>\n",
              "  "
            ]
          },
          "metadata": {},
          "execution_count": 37
        }
      ]
    },
    {
      "cell_type": "code",
      "source": [
        "# dict of dict\n",
        "\n",
        "print(scores_dict.keys())\n",
        "print(scores_dict[1].keys())\n",
        "print(scores_dict[1]['loss'][:5])"
      ],
      "metadata": {
        "colab": {
          "base_uri": "https://localhost:8080/"
        },
        "id": "Pudp8e2R21wp",
        "outputId": "5be64f93-2ca7-47dd-b926-da894ca7adad"
      },
      "execution_count": 38,
      "outputs": [
        {
          "output_type": "stream",
          "name": "stdout",
          "text": [
            "dict_keys([1, 2, 3, 4, 5, 6, 7, 8, 9, 10, 11, 12, 13, 14, 15, 16, 17, 18])\n",
            "dict_keys(['loss', 'train_rmse', 'val_rmse', 'test_rmse'])\n",
            "[18.42940902709961, 16.783838272094727, 14.783157348632812, 12.400802612304688, 9.821924209594727]\n"
          ]
        }
      ]
    },
    {
      "cell_type": "code",
      "source": [
        ""
      ],
      "metadata": {
        "id": "5PD0-tOEFbAD"
      },
      "execution_count": null,
      "outputs": []
    }
  ]
}
