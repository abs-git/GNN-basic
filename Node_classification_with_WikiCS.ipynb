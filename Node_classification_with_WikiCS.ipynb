{
  "nbformat": 4,
  "nbformat_minor": 0,
  "metadata": {
    "colab": {
      "name": "Node_classification.ipynb",
      "provenance": [],
      "collapsed_sections": [],
      "authorship_tag": "ABX9TyP+sVeGiPZ75Q7mB4fQpuym",
      "include_colab_link": true
    },
    "kernelspec": {
      "name": "python3",
      "display_name": "Python 3"
    },
    "language_info": {
      "name": "python"
    },
    "accelerator": "GPU",
    "gpuClass": "standard"
  },
  "cells": [
    {
      "cell_type": "markdown",
      "metadata": {
        "id": "view-in-github",
        "colab_type": "text"
      },
      "source": [
        "<a href=\"https://colab.research.google.com/github/abs-git/GNN/blob/main/Node_classification.ipynb\" target=\"_parent\"><img src=\"https://colab.research.google.com/assets/colab-badge.svg\" alt=\"Open In Colab\"/></a>"
      ]
    },
    {
      "cell_type": "code",
      "execution_count": null,
      "metadata": {
        "colab": {
          "base_uri": "https://localhost:8080/"
        },
        "id": "lMqOJbgUouky",
        "outputId": "2da61d43-1172-476a-effd-ae10f8143eaf"
      },
      "outputs": [
        {
          "output_type": "stream",
          "name": "stdout",
          "text": [
            "Mounted at /content/gdrive\n"
          ]
        }
      ],
      "source": [
        "from google.colab import drive\n",
        "drive.mount('/content/gdrive')"
      ]
    },
    {
      "cell_type": "code",
      "source": [
        "!pip install torch-scatter torch-sparse torch-cluster torch-spline-conv torch-geometric"
      ],
      "metadata": {
        "id": "aPKIRbsVvmjc"
      },
      "execution_count": null,
      "outputs": []
    },
    {
      "cell_type": "markdown",
      "source": [
        "# Samples of benchmark dataset"
      ],
      "metadata": {
        "id": "19Q1kHLj-s84"
      }
    },
    {
      "cell_type": "code",
      "source": [
        "import torch\n",
        "from torch_geometric.datasets import TUDataset, Planetoid, WikiCS, ShapeNet\n",
        "from torch_geometric.transforms import NormalizeFeatures\n",
        "\n",
        "enzymes_dataset = TUDataset('ENZYMES', name = 'ENZYMES')\n",
        "cora_dataset = Planetoid('Cora', name = 'Cora')\n",
        "shapenet_dataset = ShapeNet('ShapeNet', categories=['Airplane'])\n",
        "\n",
        "wikics_dataset = WikiCS('wikics', pre_transform= NormalizeFeatures())\n"
      ],
      "metadata": {
        "id": "Mp0X42Gio3D7"
      },
      "execution_count": null,
      "outputs": []
    },
    {
      "cell_type": "code",
      "source": [
        "# ENZYMES \n",
        "# ENZYMES 데이터는 그래프 수준의 학습에 사용되는 데이터 셋이다.\n",
        "\n",
        "print(len(enzymes_dataset))                 # 그래프의 수 (train, val, test 로 분리하여 사용한다.)\n",
        "print(enzymes_dataset.num_classes)          # 개별 그래프 내의 클래스 수\n",
        "print(enzymes_dataset.num_node_features)    # 개별 그래프 내의 노드 특징 수\n",
        "print()\n",
        "\n",
        "data = enzymes_dataset[0]\n",
        "\n",
        "print(data)\n",
        "print(data.is_undirected())                 # 방향성 그래프 or 비방향성 그래프\n",
        "print()\n",
        "\n",
        "print(data.edge_index.shape)                # 그래프의 연결성 : [2, num_edges]\n",
        "print(data.x.shape)                         # 노드 특징 행렬 : [num_nodes, num_node_features]\n",
        "print(data.edge_attr)                       # 엣지 특징 행렬 : [num_edges, num_edge_features] (그래프 수준의 데이터 셋이라 존재하지 않는다.)\n",
        "print(data.y)                               # target 값 : 그래프 레벨 (num_nodes, *), 노드 레벨 (1, *)\n"
      ],
      "metadata": {
        "colab": {
          "base_uri": "https://localhost:8080/"
        },
        "id": "JoVE_GZLzh0c",
        "outputId": "f187f321-d73c-491e-e13a-63146cea28a2"
      },
      "execution_count": null,
      "outputs": [
        {
          "output_type": "stream",
          "name": "stdout",
          "text": [
            "600\n",
            "6\n",
            "3\n",
            "\n",
            "Data(edge_index=[2, 168], x=[37, 3], y=[1])\n",
            "True\n",
            "\n",
            "torch.Size([2, 168])\n",
            "torch.Size([37, 3])\n",
            "None\n",
            "tensor([5])\n"
          ]
        }
      ]
    },
    {
      "cell_type": "code",
      "source": [
        "# Cora\n",
        "# Cora dataset은 노드 수준의 학습을 위해 사용된다.\n",
        "\n",
        "print(len(cora_dataset))                 # 그래프의 수 \n",
        "print(cora_dataset.num_classes)          # 그래프 내의 클래스 수\n",
        "print(cora_dataset.num_node_features)    # 그래프 내의 노드 특징 수\n",
        "print()\n",
        "\n",
        "data = cora_dataset[0]\n",
        "\n",
        "print(data)\n",
        "print(data.is_undirected())                 # 방향성 그래프 or 비방향성 그래프\n",
        "print()\n",
        "\n",
        "print(data.edge_index.shape)                # 그래프의 연결성 : [2, num_edges]\n",
        "print(data.x.shape)                         # 노드 특징 행렬 : [num_nodes, num_node_features]\n",
        "print(data.edge_attr)                       # 엣지 특징 행렬 : 존재할 경우 [num_edges, num_edge_features] \n",
        "print(data.y)                               # target 값 : 그래프 레벨 (num_nodes, *), 노드 레벨 (1, *)\n",
        "print(data.y.shape)"
      ],
      "metadata": {
        "colab": {
          "base_uri": "https://localhost:8080/"
        },
        "id": "NZowS-kP23yq",
        "outputId": "b6aae3b4-a748-4c26-9204-8b2cab1a2fad"
      },
      "execution_count": null,
      "outputs": [
        {
          "output_type": "stream",
          "name": "stdout",
          "text": [
            "1\n",
            "7\n",
            "1433\n",
            "\n",
            "Data(x=[2708, 1433], edge_index=[2, 10556], y=[2708], train_mask=[2708], val_mask=[2708], test_mask=[2708])\n",
            "True\n",
            "\n",
            "torch.Size([2, 10556])\n",
            "torch.Size([2708, 1433])\n",
            "None\n",
            "tensor([3, 4, 4,  ..., 3, 3, 3])\n",
            "torch.Size([2708])\n"
          ]
        }
      ]
    },
    {
      "cell_type": "code",
      "source": [
        "# ShapeNet\n",
        "\n",
        "print(len(shapenet_dataset))                 # 그래프의 수\n",
        "print(shapenet_dataset.num_classes)          # 개별 그래프 내의 클래스 수\n",
        "print(shapenet_dataset.num_node_features)    # 개별 그래프 내의 노드 특징 수  (3차원 point)\n",
        "print()\n",
        "\n",
        "data = shapenet_dataset[0]\n",
        "\n",
        "print(data)                                 # edge_index가 존재하지 않는 것은 노드간 연결이 없다는 뜻이다.\n",
        "print()\n",
        "\n",
        "print(data.x.shape)                         # 노드 특징 행렬 : [num_nodes, num_node_features]\n",
        "print(data.edge_attr)                       # 엣지 특징 행렬 : [num_edges, num_edge_features]\n",
        "print(data.y)                               # target 값 : 그래프 레벨 (num_nodes, *), 노드 레벨 (1, *)\n"
      ],
      "metadata": {
        "colab": {
          "base_uri": "https://localhost:8080/"
        },
        "id": "zeGfTD9mYZDu",
        "outputId": "c222fef3-d0de-4520-a480-dfd392a51d60"
      },
      "execution_count": null,
      "outputs": [
        {
          "output_type": "stream",
          "name": "stdout",
          "text": [
            "2349\n",
            "50\n",
            "3\n",
            "\n",
            "Data(x=[2518, 3], y=[2518], pos=[2518, 3], category=[1])\n",
            "\n",
            "torch.Size([2518, 3])\n",
            "None\n",
            "tensor([0, 0, 3,  ..., 3, 1, 1])\n"
          ]
        }
      ]
    },
    {
      "cell_type": "markdown",
      "source": [
        "# Using WikiCS Dataset\n",
        "\n",
        "> https://arxiv.org/pdf/2007.02901.pdf\n",
        "\n"
      ],
      "metadata": {
        "id": "Fjs3C-mj-9S4"
      }
    },
    {
      "cell_type": "code",
      "source": [
        "# WikiCS\n",
        "# Using wikics dataset\n",
        "\n",
        "print('Number of Graph : {}'.format(len(wikics_dataset)))                            # 그래프의 수 \n",
        "print('Number of Class per graph : {}'.format(wikics_dataset.num_classes))           # 그래프 내의 클래스 수\n",
        "print('Number of feature per each node : {}'.format(wikics_dataset.num_node_features))    # 그래프 내의 노드 특징 수\n",
        "print()\n",
        "\n",
        "data = wikics_dataset[0]\n",
        "\n",
        "print(data)\n",
        "print('Number of nodes : {}'.format(data.num_nodes))\n",
        "print('Number of edges : {}'.format(data.num_edges))\n",
        "print()\n",
        "\n",
        "print('Is it undiectred graph? : {}'.format(data.is_undirected()))                 # 방향성 그래프 or 비방향성 그래프\n",
        "\n",
        "print(data.edge_index.shape)                # 그래프의 연결성 : [2, num_edges] / source node -> target node\n",
        "print(data.x.shape)                         # 노드 특징 행렬 : [num_nodes, num_node_features]\n",
        "print(data.edge_attr)                       # 엣지 특징 행렬 : 존재할 경우 [num_edges, num_edge_features] \n",
        "print(data.y)                               # target 값 : 그래프 레벨 (num_nodes, *), 노드 레벨 (1, *)\n",
        "print(data.y.shape)"
      ],
      "metadata": {
        "colab": {
          "base_uri": "https://localhost:8080/"
        },
        "id": "jMDWEtlYWfjm",
        "outputId": "1c4aadcc-5f4f-460c-83a5-ae3bd4e388f5"
      },
      "execution_count": null,
      "outputs": [
        {
          "output_type": "stream",
          "name": "stdout",
          "text": [
            "Number of Graph : 1\n",
            "Number of Class per graph : 10\n",
            "Number of feature per node : 300\n",
            "\n",
            "Data(x=[11701, 300], edge_index=[2, 431726], y=[11701], train_mask=[11701, 20], val_mask=[11701, 20], test_mask=[11701], stopping_mask=[11701, 20])\n",
            "Number of nodes : 11701\n",
            "Number of edges : 431726\n",
            "\n",
            "Is it undiectred graph? : True\n",
            "torch.Size([2, 431726])\n",
            "torch.Size([11701, 300])\n",
            "None\n",
            "tensor([7, 2, 2,  ..., 2, 5, 7])\n",
            "torch.Size([11701])\n"
          ]
        }
      ]
    },
    {
      "cell_type": "code",
      "source": [
        "# Create GCN model\n",
        "\n",
        "import torch\n",
        "from torch import nn\n",
        "import torch.nn.functional as F\n",
        "from torch_geometric.nn import GCNConv, GATConv, Linear\n",
        "\n",
        "\n",
        "class GCN(nn.Module):\n",
        "  def __init__(self, hidden_channels, nFeatures, nClasses, dropout_rate):\n",
        "    super(GCN, self).__init__()\n",
        "    \n",
        "    self.conv1 = GCNConv(nFeatures, hidden_channels)\n",
        "    self.conv2 = GCNConv(hidden_channels, nClasses)\n",
        "\n",
        "    self.drop_rate = dropout_rate\n",
        "\n",
        "  def forward(self, x, edge_index):\n",
        "    x = self.conv1(x, edge_index)\n",
        "    x = x.relu()\n",
        "    x = F.dropout(x, self.drop_rate)\n",
        "\n",
        "    x = self.conv2(x, edge_index)\n",
        "\n",
        "    return F.softmax(x, dim = 1)\n",
        "\n",
        "\n",
        "class GAT(nn.Module):\n",
        "  def __init__(self, hidden_channels, nFeatures, nClasses, dropout_rate, attention_heads = 4):\n",
        "    super().__init__()\n",
        "\n",
        "    self.conv1 = GATConv(nFeatures, hidden_channels, heads = attention_heads)\n",
        "    self.conv2 = GATConv(hidden_channels * attention_heads, nClasses, heads = 1)\n",
        "    self.out = Linear(hidden_channels, nClasses)\n",
        "\n",
        "    self.drop_rate = dropout_rate\n",
        "\n",
        "  def forward(self, x, edge_index):\n",
        "\n",
        "    x = self.conv1(x, edge_index)\n",
        "    x = x.relu()\n",
        "    x = F.dropout(x, self.drop_rate)\n",
        "\n",
        "    x = self.conv2(x, edge_index)\n",
        "\n",
        "    return F.softmax(x, dim = 1)\n",
        "\n"
      ],
      "metadata": {
        "id": "mghVS0L1XJ3I"
      },
      "execution_count": null,
      "outputs": []
    },
    {
      "cell_type": "code",
      "source": [
        "# Learning utils\n",
        "\n",
        "import numpy as np\n",
        "from sklearn.metrics import roc_auc_score\n",
        "import time\n",
        "from collections import defaultdict\n",
        "\n",
        "\n",
        "def trainer(data, model, optimizer, criterion, i_spilts):\n",
        "  X = data.x\n",
        "  edge_index = data.edge_index  \n",
        "  target = data.y\n",
        "\n",
        "  model.train()\n",
        "  optimizer.zero_grad()\n",
        "\n",
        "  outputs = model(X, edge_index)                    # Use all data as input, because all nodes have node features\n",
        "  \n",
        "  loss = criterion(outputs[data['train_mask'][:,i_spilts]],   \n",
        "                   target[data['train_mask'][:,i_spilts]])    # Only use nodes with labels available for loss calculation\n",
        "  loss.backward()\n",
        "  optimizer.step()\n",
        "\n",
        "  return loss\n",
        "\n",
        "\n",
        "def tester(data, model, index, nClasses):\n",
        "  X = data.x\n",
        "  edge_index = data.edge_index\n",
        "  target = data.y\n",
        "  \n",
        "  model.eval()\n",
        "\n",
        "  outputs = model(X, edge_index)[index]\n",
        "\n",
        "  # calculate AUC\n",
        "  y_true = target.cpu().detach().numpy()[index]\n",
        "  y_mat = np.zeros(shape = (y_true.shape[0], nClasses))\n",
        "\n",
        "  for i in range(y_true.shape[0]):\n",
        "    y_mat[i, y_true[i]] = 1\n",
        "  \n",
        "  auc = roc_auc_score(y_mat, outputs.cpu().detach().numpy())\n",
        "  \n",
        "  # calculate Accuracy\n",
        "  pred = outputs.argmax(dim = 1)\n",
        "  correct = int((pred == target[index]).sum())\n",
        "\n",
        "  accuracy = correct / pred.shape[0]\n",
        "\n",
        "  scores = [auc, accuracy]\n",
        "\n",
        "  return scores\n",
        "\n",
        "\n",
        "def experiment(data, model, optimizer, criterion, nClasses, EPOCHS, i_splits):\n",
        "\n",
        "  losses = []\n",
        "  scores = defaultdict(list)\n",
        "\n",
        "  for epoch in range(1, EPOCHS):\n",
        "\n",
        "    loss = trainer(data, GCN_model, GCN_optimizer, GCN_criterion, i_splits)\n",
        "    \n",
        "    train_score = tester(data, GCN_model, data['train_mask'][:,i_splits], nClasses)\n",
        "    val_score = tester(data, GCN_model, data['val_mask'][:,i_splits], nClasses)\n",
        "    test_score = tester(data, GCN_model, data['test_mask'], nClasses)\n",
        "\n",
        "    losses.append(loss.item())\n",
        "\n",
        "    scores['train_auc'].append(train_score[0])\n",
        "    scores['val_auc'].append(val_score[0])\n",
        "    scores['test_auc'].append(test_score[0])\n",
        "\n",
        "    scores['train_accuracy'].append(train_score[1])\n",
        "    scores['val_accuracy'].append(val_score[1])\n",
        "    scores['test_accuracy'].append(test_score[1])\n",
        "\n",
        "    if epoch % 10 == 0 :\n",
        "      print('epoch : {}, train loss : {}'.format(epoch, loss))\n",
        "\n",
        "\n",
        "  return losses, scores\n",
        "\n"
      ],
      "metadata": {
        "id": "0x0EVJurkIAV"
      },
      "execution_count": null,
      "outputs": []
    },
    {
      "cell_type": "code",
      "source": [
        "# Create a GCN model\n",
        "\n",
        "nFeatures = wikics_dataset.num_features\n",
        "nClasses = wikics_dataset.num_classes\n",
        "\n",
        "GCN_model = GCN(hidden_channels = 200, nFeatures = nFeatures, nClasses = nClasses, dropout_rate = 0.3)\n",
        "\n",
        "GCN_optimizer = torch.optim.Adam(GCN_model.parameters(), lr = 0.001)\n",
        "GCN_criterion = torch.nn.CrossEntropyLoss()\n",
        "\n",
        "GCN_model"
      ],
      "metadata": {
        "colab": {
          "base_uri": "https://localhost:8080/"
        },
        "id": "P_F6wBuxhkt7",
        "outputId": "47c64f4e-42bc-4250-f93c-dc5bb0e6a83e"
      },
      "execution_count": null,
      "outputs": [
        {
          "output_type": "execute_result",
          "data": {
            "text/plain": [
              "GCN(\n",
              "  (conv1): GCNConv(300, 200)\n",
              "  (conv2): GCNConv(200, 10)\n",
              ")"
            ]
          },
          "metadata": {},
          "execution_count": 81
        }
      ]
    },
    {
      "cell_type": "code",
      "source": [
        "# Train\n",
        "\n",
        "EPOCHS = 100\n",
        "i_splits = 4\n",
        "\n",
        "GCN_losses, GCN_scores = experiment(data, GCN_model, GCN_optimizer, GCN_criterion, nClasses, EPOCHS, i_splits)\n"
      ],
      "metadata": {
        "id": "UzGkQIvo_Z5I"
      },
      "execution_count": null,
      "outputs": []
    },
    {
      "cell_type": "code",
      "source": [
        "# visualize\n",
        "\n",
        "import matplotlib.pyplot as plt\n",
        "\n",
        "fig, axes = plt.subplots(2,2, figsize = (16,16))\n",
        "\n",
        "# AUC\n",
        "axes[0][0].plot(GCN_scores['train_auc'], c = 'r', linestyle = 'solid', linewidth = 3)\n",
        "axes[0][0].plot(GCN_scores['val_auc'], c = 'b', linestyle = 'solid', linewidth = 3)\n",
        "axes[0][0].plot(GCN_scores['test_auc'], c = 'g', linestyle = 'solid', linewidth = 3)\n",
        "\n",
        "axes[0][0].set_ylim(0,1)\n",
        "\n",
        "axes[0][0].set_title(\"AUC\")\n",
        "axes[0][0].set_xlabel('Epoch', fontsize = 15)\n",
        "axes[0][0].set_ylabel('Score', fontsize = 15)\n",
        "\n",
        "axes[0][0].tick_params(labelsize = 15)\n",
        "axes[0][0].grid()\n",
        "\n",
        "axes[0][0].legend(['Train AUC', 'Val AUC', 'Test AUC'], fontsize = 15)\n",
        "\n",
        "\n",
        "# Accuracy\n",
        "axes[0][1].plot(GCN_scores['train_accuracy'], c = 'r', linestyle = 'solid', linewidth = 3)\n",
        "axes[0][1].plot(GCN_scores['val_accuracy'], c = 'b', linestyle = 'solid', linewidth = 3)\n",
        "axes[0][1].plot(GCN_scores['test_accuracy'], c = 'g', linestyle = 'solid', linewidth = 3)\n",
        "\n",
        "axes[0][1].set_ylim(0,1)\n",
        "\n",
        "axes[0][1].set_title(\"Accuracy\")\n",
        "axes[0][1].set_xlabel('Epoch', fontsize = 15)\n",
        "axes[0][1].set_ylabel('score', fontsize = 15)\n",
        "\n",
        "axes[0][1].tick_params(labelsize = 15)\n",
        "axes[0][1].grid()\n",
        "\n",
        "axes[0][1].legend(['Train Accuracy', 'Val Accuracy', 'Test Accuracy'], fontsize = 15)\n",
        "\n",
        "\n",
        "# office 31 loss\n",
        "axes[1][0].plot(GCN_losses, c = 'r', linestyle = 'solid', linewidth = 3)\n",
        "\n",
        "axes[1][0].set_ylim(0,3)\n",
        "\n",
        "axes[1][0].set_title(\"Train Loss\")\n",
        "axes[1][0].set_xlabel('Epoch', fontsize = 15)\n",
        "axes[1][0].set_ylabel('loss', fontsize = 15)\n",
        "\n",
        "axes[1][0].tick_params(labelsize = 15)\n",
        "axes[1][0].grid()\n",
        "\n",
        "axes[1][0].legend(['Train loss'], fontsize = 15)\n",
        "\n",
        "\n",
        "# plot\n",
        "plt.xticks(fontsize = '20')\n",
        "plt.yticks(fontsize = '20')\n",
        "\n",
        "plt.show()\n",
        "\n"
      ],
      "metadata": {
        "colab": {
          "base_uri": "https://localhost:8080/",
          "height": 958
        },
        "id": "_4V1qAmTsphA",
        "outputId": "64655584-7e0a-4dc5-c2d9-4db5bfc853a5"
      },
      "execution_count": null,
      "outputs": [
        {
          "output_type": "display_data",
          "data": {
            "text/plain": [
              "<Figure size 1152x1152 with 4 Axes>"
            ],
            },
          "metadata": {
            "needs_background": "light"
          }
        }
      ]
    },
    {
      "cell_type": "code",
      "source": [
        "# Experiment with Grid search\n",
        "\n",
        "def grid_search(data, model, model_params, EPOCH, learning_rate):\n",
        "\n",
        "  model = model(**model_params)\n",
        "\n",
        "  optimizer = torch.optim.Adam(model.parameters(), lr = learning_rate)\n",
        "  criterion = torch.nn.CrossEntropyLoss()\n",
        "\n",
        "  losses = []\n",
        "  scores = defaultdict(list)\n",
        "\n",
        "  for epoch in range(1, EPOCHS):\n",
        "\n",
        "    loss = trainer(data, model, optimizer, criterion, 2)\n",
        "    \n",
        "    train_score = tester(data, model, data['train_mask'][:,4], model_params['nClasses'])\n",
        "    val_score = tester(data, model, data['val_mask'][:,4], model_params['nClasses'])\n",
        "    test_score = tester(data, model, data['test_mask'], model_params['nClasses'])\n",
        "\n",
        "    losses.append(loss.item())\n",
        "\n",
        "    scores['train_auc'].append(train_score[0])\n",
        "    scores['val_auc'].append(val_score[0])\n",
        "    scores['test_auc'].append(test_score[0])\n",
        "\n",
        "    scores['train_accuracy'].append(train_score[1])\n",
        "    scores['val_accuracy'].append(val_score[1])\n",
        "    scores['test_accuracy'].append(test_score[1])\n",
        "\n",
        "    if epoch % 100 == 0 :\n",
        "      print('epoch : {}, train loss : {}'.format(epoch, loss))\n",
        "\n",
        "\n",
        "  return model, losses, scores\n"
      ],
      "metadata": {
        "id": "e4ucLZA34wBp"
      },
      "execution_count": null,
      "outputs": []
    },
    {
      "cell_type": "code",
      "source": [
        "\n",
        "from itertools import product\n",
        "\n",
        "learning_rates = [0.1, 0.01, 0.001]\n",
        "hidden_channels = [10, 20, 30]\n",
        "dropout_rates = [0.2, 0.4, 0.6]\n",
        "\n",
        "i = 0\n",
        "for hc, lr, dp in product(hidden_channels, learning_rates, dropout_rates):\n",
        "\n",
        "  print('hidden channerls : {}, learning rates : {}, dropout_rates : {}'.format(hc, lr, dp))\n",
        "\n",
        "  params = {\n",
        "      \"data\" : data,\n",
        "      \"model\" : GAT,\n",
        "      \"model_params\" : {\n",
        "          \"hidden_channels\" : hc,\n",
        "          \"nFeatures\" : wikics_dataset.num_features,\n",
        "          \"nClasses\" : wikics_dataset.num_classes,\n",
        "          \"dropout_rate\" : dp\n",
        "\n",
        "      },\n",
        "      \"EPOCH\" : 1000,\n",
        "      \"learning_rate\" : lr\n",
        "  }\n",
        "\n",
        "  model, losses, scores = grid_search(**params)\n",
        "\n",
        "  \n"
      ],
      "metadata": {
        "colab": {
          "base_uri": "https://localhost:8080/",
          "height": 712
        },
        "id": "OTdV7tuYr_gx",
        "outputId": "d045dc30-6970-404d-8405-d27405484f1c"
      },
      "execution_count": null,
      "outputs": [
        {
          "output_type": "stream",
          "name": "stdout",
          "text": [
            "0 10 0.1 0.2\n",
            "epoch : 1, train loss : 2.302546739578247\n",
            "0 10 0.1 0.4\n",
            "epoch : 1, train loss : 2.3025941848754883\n",
            "0 10 0.1 0.6\n",
            "epoch : 1, train loss : 2.3023908138275146\n",
            "0 10 0.01 0.2\n",
            "epoch : 1, train loss : 2.3026504516601562\n",
            "0 10 0.01 0.4\n",
            "epoch : 1, train loss : 2.302760124206543\n",
            "0 10 0.01 0.6\n",
            "epoch : 1, train loss : 2.3025600910186768\n",
            "0 10 0.001 0.2\n",
            "epoch : 1, train loss : 2.3026087284088135\n",
            "0 10 0.001 0.4\n",
            "epoch : 1, train loss : 2.3025219440460205\n",
            "0 10 0.001 0.6\n",
            "epoch : 1, train loss : 2.302488088607788\n",
            "0 20 0.1 0.2\n"
          ]
        },
        
      ]
    },
    {
      "cell_type": "code",
      "source": [
        "# visualize\n",
        "\n",
        "import matplotlib.pyplot as plt\n",
        "\n",
        "fig, axes = plt.subplots(2,2, figsize = (16,16))\n",
        "\n",
        "# AUC\n",
        "axes[0][0].plot(scores['train_auc'], c = 'r', linestyle = 'solid', linewidth = 3)\n",
        "axes[0][0].plot(scores['val_auc'], c = 'b', linestyle = 'solid', linewidth = 3)\n",
        "axes[0][0].plot(scores['test_auc'], c = 'g', linestyle = 'solid', linewidth = 3)\n",
        "\n",
        "axes[0][0].set_ylim(0,1)\n",
        "\n",
        "axes[0][0].set_title(\"AUC\")\n",
        "axes[0][0].set_xlabel('Epoch', fontsize = 15)\n",
        "axes[0][0].set_ylabel('Score', fontsize = 15)\n",
        "\n",
        "axes[0][0].tick_params(labelsize = 15)\n",
        "axes[0][0].grid()\n",
        "\n",
        "axes[0][0].legend(['Train AUC', 'Val AUC', 'Test AUC'], fontsize = 15)\n",
        "\n",
        "\n",
        "# Accuracy\n",
        "axes[0][1].plot(scores['train_accuracy'], c = 'r', linestyle = 'solid', linewidth = 3)\n",
        "axes[0][1].plot(scores['val_accuracy'], c = 'b', linestyle = 'solid', linewidth = 3)\n",
        "axes[0][1].plot(scores['test_accuracy'], c = 'g', linestyle = 'solid', linewidth = 3)\n",
        "\n",
        "axes[0][1].set_ylim(0,1)\n",
        "\n",
        "axes[0][1].set_title(\"Accuracy\")\n",
        "axes[0][1].set_xlabel('Epoch', fontsize = 15)\n",
        "axes[0][1].set_ylabel('score', fontsize = 15)\n",
        "\n",
        "axes[0][1].tick_params(labelsize = 15)\n",
        "axes[0][1].grid()\n",
        "\n",
        "axes[0][1].legend(['Train Accuracy', 'Val Accuracy', 'Test Accuracy'], fontsize = 15)\n",
        "\n",
        "\n",
        "# office 31 loss\n",
        "axes[1][0].plot(losses, c = 'r', linestyle = 'solid', linewidth = 3)\n",
        "\n",
        "axes[1][0].set_ylim(0,3)\n",
        "\n",
        "axes[1][0].set_title(\"Train Loss\")\n",
        "axes[1][0].set_xlabel('Epoch', fontsize = 15)\n",
        "axes[1][0].set_ylabel('loss', fontsize = 15)\n",
        "\n",
        "axes[1][0].tick_params(labelsize = 15)\n",
        "axes[1][0].grid()\n",
        "\n",
        "axes[1][0].legend(['Train loss'], fontsize = 15)\n",
        "\n",
        "\n",
        "# plot\n",
        "plt.xticks(fontsize = '20')\n",
        "plt.yticks(fontsize = '20')\n",
        "\n",
        "plt.show()\n",
        "\n"
      ],
      "metadata": {
        "colab": {
          "base_uri": "https://localhost:8080/",
          "height": 958
        },
        "id": "YQ5Rbd4Gh3n9",
        "outputId": "42c769e5-87f9-444e-85f9-dba997919b62"
      },
      "execution_count": null,
      "outputs": [
        {
          "output_type": "display_data",
          "data": {
            "text/plain": [
              "<Figure size 1152x1152 with 4 Axes>"
            ],
            "image/png": "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\n"
          },
          "metadata": {
            "needs_background": "light"
          }
        }
      ]
    },
    {
      "cell_type": "code",
      "source": [
        ""
      ],
      "metadata": {
        "id": "B_Pl-HnznYok"
      },
      "execution_count": null,
      "outputs": []
    }
  ]
}
