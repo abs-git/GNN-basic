{
 "cells": [
  {
   "cell_type": "code",
   "execution_count": 1,
   "id": "bc59d6df",
   "metadata": {},
   "outputs": [],
   "source": [
    "# dataset : 'https://snap.stanford.edu/data/reddit_threads.html'\n",
    "\n",
    "import torch\n",
    "from torch import nn\n",
    "import torch.nn.functional as F\n",
    "\n",
    "from torch_geometric.nn import GCNConv, TopKPooling\n",
    "from torch_geometric.nn import global_mean_pool\n",
    "from torch_geometric.nn import global_max_pool\n",
    "\n",
    "import numpy as np\n",
    "import pandas as pd\n",
    "import json\n",
    "import os\n",
    "\n",
    "graphs_path = './reddit_threads/reddit_edges.json'\n",
    "graphs_target_path = './reddit_threads/reddit_target.csv'\n"
   ]
  },
  {
   "cell_type": "code",
   "execution_count": 2,
   "id": "37ec0bfd",
   "metadata": {},
   "outputs": [],
   "source": [
    "with open(graphs_path) as f:\n",
    "    graphs = json.load(f)\n",
    "\n",
    "graphs_target = pd.read_csv(graphs_target_path)"
   ]
  },
  {
   "cell_type": "code",
   "execution_count": 3,
   "id": "5254a76b",
   "metadata": {
    "scrolled": true
   },
   "outputs": [
    {
     "name": "stdout",
     "output_type": "stream",
     "text": [
      "Number of Graph : 203088 \n",
      "\n",
      "[[0, 2], [1, 5], [2, 4], [2, 5], [2, 6], [2, 7], [2, 8], [2, 9], [2, 10], [3, 8]]\n",
      "[[0, 9], [1, 9], [2, 9], [3, 9], [4, 12], [5, 9], [6, 9], [7, 9], [8, 9], [9, 10], [9, 11], [9, 12]]\n"
     ]
    }
   ],
   "source": [
    "print('Number of Graph : {} \\n'.format(len(graphs.keys())))\n",
    "\n",
    "print(graphs['0'])\n",
    "print(graphs['200000'])"
   ]
  },
  {
   "cell_type": "code",
   "execution_count": 4,
   "id": "83d2d29d",
   "metadata": {},
   "outputs": [
    {
     "data": {
      "text/html": [
       "<div>\n",
       "<style scoped>\n",
       "    .dataframe tbody tr th:only-of-type {\n",
       "        vertical-align: middle;\n",
       "    }\n",
       "\n",
       "    .dataframe tbody tr th {\n",
       "        vertical-align: top;\n",
       "    }\n",
       "\n",
       "    .dataframe thead th {\n",
       "        text-align: right;\n",
       "    }\n",
       "</style>\n",
       "<table border=\"1\" class=\"dataframe\">\n",
       "  <thead>\n",
       "    <tr style=\"text-align: right;\">\n",
       "      <th></th>\n",
       "      <th>id</th>\n",
       "      <th>target</th>\n",
       "    </tr>\n",
       "  </thead>\n",
       "  <tbody>\n",
       "    <tr>\n",
       "      <th>0</th>\n",
       "      <td>0</td>\n",
       "      <td>0</td>\n",
       "    </tr>\n",
       "    <tr>\n",
       "      <th>1</th>\n",
       "      <td>1</td>\n",
       "      <td>1</td>\n",
       "    </tr>\n",
       "    <tr>\n",
       "      <th>2</th>\n",
       "      <td>2</td>\n",
       "      <td>0</td>\n",
       "    </tr>\n",
       "    <tr>\n",
       "      <th>3</th>\n",
       "      <td>3</td>\n",
       "      <td>1</td>\n",
       "    </tr>\n",
       "    <tr>\n",
       "      <th>4</th>\n",
       "      <td>4</td>\n",
       "      <td>0</td>\n",
       "    </tr>\n",
       "    <tr>\n",
       "      <th>...</th>\n",
       "      <td>...</td>\n",
       "      <td>...</td>\n",
       "    </tr>\n",
       "    <tr>\n",
       "      <th>203083</th>\n",
       "      <td>203083</td>\n",
       "      <td>1</td>\n",
       "    </tr>\n",
       "    <tr>\n",
       "      <th>203084</th>\n",
       "      <td>203084</td>\n",
       "      <td>0</td>\n",
       "    </tr>\n",
       "    <tr>\n",
       "      <th>203085</th>\n",
       "      <td>203085</td>\n",
       "      <td>0</td>\n",
       "    </tr>\n",
       "    <tr>\n",
       "      <th>203086</th>\n",
       "      <td>203086</td>\n",
       "      <td>1</td>\n",
       "    </tr>\n",
       "    <tr>\n",
       "      <th>203087</th>\n",
       "      <td>203087</td>\n",
       "      <td>0</td>\n",
       "    </tr>\n",
       "  </tbody>\n",
       "</table>\n",
       "<p>203088 rows × 2 columns</p>\n",
       "</div>"
      ],
      "text/plain": [
       "            id  target\n",
       "0            0       0\n",
       "1            1       1\n",
       "2            2       0\n",
       "3            3       1\n",
       "4            4       0\n",
       "...        ...     ...\n",
       "203083  203083       1\n",
       "203084  203084       0\n",
       "203085  203085       0\n",
       "203086  203086       1\n",
       "203087  203087       0\n",
       "\n",
       "[203088 rows x 2 columns]"
      ]
     },
     "execution_count": 4,
     "metadata": {},
     "output_type": "execute_result"
    }
   ],
   "source": [
    "graphs_target"
   ]
  },
  {
   "cell_type": "code",
   "execution_count": 5,
   "id": "031d1675",
   "metadata": {},
   "outputs": [
    {
     "name": "stdout",
     "output_type": "stream",
     "text": [
      "1    104065\n",
      "0     99023\n",
      "Name: target, dtype: int64\n",
      "\n",
      "182779\n",
      "20814\n"
     ]
    }
   ],
   "source": [
    "print(graphs_target['target'].value_counts())\n",
    "print()\n",
    "\n",
    "true_con = graphs_target['target'] == 1\n",
    "false_con = graphs_target['target'] == 0\n",
    "\n",
    "train_ratio = 0.9\n",
    "train_trues = graphs_target.loc[true_con].sample(frac = train_ratio)\n",
    "test_trues = pd.concat([graphs_target.loc[true_con],train_trues]).drop_duplicates(keep=False)\n",
    "\n",
    "train_falses = graphs_target.loc[false_con].sample(frac = train_ratio)\n",
    "test_falses = pd.concat([graphs_target.loc[false_con], train_falses]).drop_duplicates(keep=False)\n",
    "\n",
    "train_indices = pd.concat([train_trues, train_falses])['id'].tolist()\n",
    "test_indices = pd.concat([test_trues, test_trues])['id'].tolist()\n",
    "\n",
    "print(len(train_indices))\n",
    "print(len(test_indices))"
   ]
  },
  {
   "cell_type": "code",
   "execution_count": 6,
   "id": "8572e7ff",
   "metadata": {},
   "outputs": [
    {
     "name": "stdout",
     "output_type": "stream",
     "text": [
      "[[0, 3], [0, 6], [1, 8], [2, 8], [4, 8], [5, 8], [6, 8], [7, 8], [8, 9], [8, 10], [8, 11], [8, 12]]\n",
      "1\n"
     ]
    }
   ],
   "source": [
    "graph_number = 1\n",
    "\n",
    "print(graphs[str(graph_number)])\n",
    "print(graphs_target['target'][graph_number])"
   ]
  },
  {
   "cell_type": "code",
   "execution_count": 7,
   "id": "5b1fc482",
   "metadata": {},
   "outputs": [],
   "source": [
    "\n",
    "def _get_node_features(graph):\n",
    "    '''[Number of Nodes, Node, Feature size]'''\n",
    "    \n",
    "    nodes = set(np.array(graph).flatten())\n",
    "\n",
    "    all_node_feats = np.empty(shape = (len(nodes),))\n",
    "    \n",
    "    all_node_feats = np.expand_dims(all_node_feats, axis = 1)\n",
    "    all_node_feats = torch.tensor(all_node_feats, dtype = torch.float)\n",
    "    \n",
    "    return all_node_feats\n",
    "\n",
    "\n",
    "def _get_adjacency_info(graph):\n",
    "    ''' [2, number of edge]'''\n",
    "    \n",
    "    all_edge_feats = []\n",
    "    \n",
    "    trans_graph = list(zip(*graph))\n",
    "    \n",
    "        \n",
    "    edge_index = np.asarray(trans_graph)\n",
    "    edge_index = torch.tensor(edge_index, dtype = torch.float)\n",
    "        \n",
    "    return edge_index\n",
    "\n",
    "\n",
    "def _get_label(target):\n",
    "\n",
    "    label = np.asarray([target])\n",
    "    label = torch.tensor(label, dtype = torch.int64)\n",
    "\n",
    "    return label\n"
   ]
  },
  {
   "cell_type": "code",
   "execution_count": 8,
   "id": "14d16ccb",
   "metadata": {},
   "outputs": [
    {
     "name": "stdout",
     "output_type": "stream",
     "text": [
      "tensor([[0.],\n",
      "        [0.],\n",
      "        [0.],\n",
      "        [0.],\n",
      "        [0.],\n",
      "        [0.],\n",
      "        [0.],\n",
      "        [0.],\n",
      "        [0.],\n",
      "        [0.],\n",
      "        [0.],\n",
      "        [0.],\n",
      "        [0.]])\n",
      "torch.Size([13, 1])\n",
      "\n",
      "tensor([[ 0.,  0.,  1.,  2.,  4.,  5.,  6.,  7.,  8.,  8.,  8.,  8.],\n",
      "        [ 3.,  6.,  8.,  8.,  8.,  8.,  8.,  8.,  9., 10., 11., 12.]])\n",
      "torch.Size([2, 12])\n",
      "\n",
      "tensor([1])\n"
     ]
    }
   ],
   "source": [
    "node_feats = _get_node_features(graphs[str(graph_number)])\n",
    "\n",
    "print(node_feats)\n",
    "print(node_feats.shape)\n",
    "\n",
    "edge_index = _get_adjacency_info(graphs[str(graph_number)])\n",
    "print()\n",
    "print(edge_index)\n",
    "print(edge_index.shape)\n",
    "\n",
    "y = _get_label(graphs_target['target'][graph_number])\n",
    "print()\n",
    "print(y)"
   ]
  },
  {
   "cell_type": "code",
   "execution_count": 24,
   "id": "d03db3dd",
   "metadata": {},
   "outputs": [],
   "source": [
    "from torch_geometric.data import Data, DataLoader\n",
    "\n",
    "def process(graph_number):\n",
    "    \n",
    "    global graphs, graphs_target\n",
    "    \n",
    "    node_feats = _get_node_features(graphs[str(graph_number)])\n",
    "    edge_index = _get_adjacency_info(graphs[str(graph_number)])\n",
    "    label = _get_label(graphs_target['target'][graph_number])\n",
    "    \n",
    "    data = Data(x = node_feats,\n",
    "                edge_index = edge_index,\n",
    "                y = label)\n",
    "\n",
    "    return data"
   ]
  },
  {
   "cell_type": "code",
   "execution_count": 25,
   "id": "223078b4",
   "metadata": {
    "scrolled": true
   },
   "outputs": [
    {
     "name": "stdout",
     "output_type": "stream",
     "text": [
      "Data(x=[35, 1], edge_index=[2, 35], y=[1])\n",
      "Data(x=[19, 1], edge_index=[2, 19], y=[1])\n"
     ]
    }
   ],
   "source": [
    "train_dataset = []\n",
    "test_dataset = []\n",
    "\n",
    "for idx in train_indices:   \n",
    "    data = process(idx)\n",
    "    train_dataset.append(data)\n",
    "\n",
    "for idx in test_indices:\n",
    "    data = process(idx)\n",
    "    test_dataset.append(data)\n",
    "    \n",
    "print(train_dataset[0])\n",
    "print(test_dataset[0])"
   ]
  },
  {
   "cell_type": "code",
   "execution_count": 26,
   "id": "05824ae3",
   "metadata": {},
   "outputs": [
    {
     "data": {
      "text/plain": [
       "[Data(x=[35, 1], edge_index=[2, 35], y=[1]),\n",
       " Data(x=[18, 1], edge_index=[2, 17], y=[1]),\n",
       " Data(x=[12, 1], edge_index=[2, 12], y=[1]),\n",
       " Data(x=[12, 1], edge_index=[2, 11], y=[1]),\n",
       " Data(x=[13, 1], edge_index=[2, 14], y=[1])]"
      ]
     },
     "execution_count": 26,
     "metadata": {},
     "output_type": "execute_result"
    }
   ],
   "source": [
    "train_dataset[:5]"
   ]
  },
  {
   "cell_type": "code",
   "execution_count": 27,
   "id": "1286315e",
   "metadata": {},
   "outputs": [
    {
     "data": {
      "text/plain": [
       "[Data(x=[19, 1], edge_index=[2, 19], y=[1]),\n",
       " Data(x=[17, 1], edge_index=[2, 16], y=[1]),\n",
       " Data(x=[14, 1], edge_index=[2, 15], y=[1]),\n",
       " Data(x=[32, 1], edge_index=[2, 35], y=[1]),\n",
       " Data(x=[18, 1], edge_index=[2, 17], y=[1])]"
      ]
     },
     "execution_count": 27,
     "metadata": {},
     "output_type": "execute_result"
    }
   ],
   "source": [
    "test_dataset[:5]"
   ]
  },
  {
   "cell_type": "code",
   "execution_count": null,
   "id": "b415266c",
   "metadata": {},
   "outputs": [],
   "source": [
    "train_loader = DataLoader(train_dataset, batch_size = 128, shuffle=True)\n",
    "test_loader = DataLoader(test_dataset, batch_size = 128, shuffle=True)"
   ]
  },
  {
   "cell_type": "code",
   "execution_count": 57,
   "id": "1a1fa50b",
   "metadata": {},
   "outputs": [
    {
     "ename": "TypeError",
     "evalue": "'DataLoader' object is not subscriptable",
     "output_type": "error",
     "traceback": [
      "\u001b[0;31m---------------------------------------------------------------------------\u001b[0m",
      "\u001b[0;31mTypeError\u001b[0m                                 Traceback (most recent call last)",
      "\u001b[0;32m<ipython-input-57-4769b8291f48>\u001b[0m in \u001b[0;36m<module>\u001b[0;34m\u001b[0m\n\u001b[0;32m----> 1\u001b[0;31m \u001b[0;32mfor\u001b[0m \u001b[0mbatch\u001b[0m \u001b[0;32min\u001b[0m \u001b[0mtrain_loader\u001b[0m\u001b[0;34m[\u001b[0m\u001b[0;34m:\u001b[0m\u001b[0;36m5\u001b[0m\u001b[0;34m]\u001b[0m\u001b[0;34m:\u001b[0m\u001b[0;34m\u001b[0m\u001b[0;34m\u001b[0m\u001b[0m\n\u001b[0m\u001b[1;32m      2\u001b[0m     \u001b[0mprint\u001b[0m\u001b[0;34m(\u001b[0m\u001b[0mbatch\u001b[0m\u001b[0;34m)\u001b[0m\u001b[0;34m\u001b[0m\u001b[0;34m\u001b[0m\u001b[0m\n\u001b[1;32m      3\u001b[0m \u001b[0;34m\u001b[0m\u001b[0m\n\u001b[1;32m      4\u001b[0m \u001b[0;34m\u001b[0m\u001b[0m\n",
      "\u001b[0;31mTypeError\u001b[0m: 'DataLoader' object is not subscriptable"
     ]
    }
   ],
   "source": [
    "for batch in train_loader[:5]:\n",
    "    print(batch)\n",
    "    \n",
    "    "
   ]
  },
  {
   "cell_type": "code",
   "execution_count": null,
   "id": "85adab4b",
   "metadata": {},
   "outputs": [],
   "source": []
  }
 ],
 "metadata": {
  "kernelspec": {
   "display_name": "mlflow",
   "language": "python",
   "name": "mlflow"
  },
  "language_info": {
   "codemirror_mode": {
    "name": "ipython",
    "version": 3
   },
   "file_extension": ".py",
   "mimetype": "text/x-python",
   "name": "python",
   "nbconvert_exporter": "python",
   "pygments_lexer": "ipython3",
   "version": "3.8.8"
  }
 },
 "nbformat": 4,
 "nbformat_minor": 5
}
