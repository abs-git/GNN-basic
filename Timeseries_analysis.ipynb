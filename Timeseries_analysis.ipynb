{
  "nbformat": 4,
  "nbformat_minor": 0,
  "metadata": {
    "colab": {
      "name": "GNN_for_timeseries.ipynb",
      "provenance": [],
      "collapsed_sections": [],
      "authorship_tag": "ABX9TyOtHc4tVxPqy6cigcPsR/f6",
      "include_colab_link": true
    },
    "kernelspec": {
      "name": "python3",
      "display_name": "Python 3"
    },
    "language_info": {
      "name": "python"
    },
    "gpuClass": "standard",
    "accelerator": "GPU"
  },
  "cells": [
    {
      "cell_type": "markdown",
      "metadata": {
        "id": "view-in-github",
        "colab_type": "text"
      },
      "source": [
        "<a href=\"https://colab.research.google.com/github/abs-git/GNN/blob/main/GNN_for_timeseries.ipynb\" target=\"_parent\"><img src=\"https://colab.research.google.com/assets/colab-badge.svg\" alt=\"Open In Colab\"/></a>"
      ]
    },
    {
      "cell_type": "code",
      "execution_count": null,
      "metadata": {
        "id": "scNaHauiaPRN"
      },
      "outputs": [],
      "source": [
        "import torch\n",
        "from IPython.display import clear_output \n",
        "torch_version = torch.__version__\n",
        "print(\"Torch version: \", torch_version)\n",
        "pytorch_version = f\"torch-{torch.__version__}.html\"\n",
        "!pip install --no-index torch-scatter -f https://pytorch-geometric.com/whl/$pytorch_version\n",
        "!pip install --no-index torch-sparse -f https://pytorch-geometric.com/whl/$pytorch_version\n",
        "!pip install --no-index torch-cluster -f https://pytorch-geometric.com/whl/$pytorch_version\n",
        "!pip install --no-index torch-spline-conv -f https://pytorch-geometric.com/whl/$pytorch_version\n",
        "!pip install torch-geometric\n",
        "clear_output()"
      ]
    },
    {
      "cell_type": "code",
      "source": [
        "!pip install torch-geometric-temporal\n",
        "clear_output()"
      ],
      "metadata": {
        "id": "9o2Qx-Fsasst"
      },
      "execution_count": null,
      "outputs": []
    },
    {
      "cell_type": "markdown",
      "source": [
        "## Data load"
      ],
      "metadata": {
        "id": "F7HNZa44au1z"
      }
    },
    {
      "cell_type": "code",
      "source": [
        "# Los Angeles Metropolitan traffic dataset\n",
        "# 207 loop detectors on the highway\n",
        "\n",
        "from torch_geometric_temporal.dataset import METRLADatasetLoader\n",
        "\n",
        "data_loader = METRLADatasetLoader()\n",
        "\n",
        "# input sequence lenght : 12 / output sequence lenght : 12\n",
        "dataset = data_loader.get_dataset(num_timesteps_in = 12, num_timesteps_out= 12)\n",
        "dataset2 = data_loader.get_dataset(num_timesteps_in = 6, num_timesteps_out= 6)\n"
      ],
      "metadata": {
        "id": "Kgb4D5l0ay_h"
      },
      "execution_count": null,
      "outputs": []
    },
    {
      "cell_type": "code",
      "source": [
        "import numpy as np\n",
        "\n",
        "print(dataset)\n",
        "\n",
        "print(len(list(dataset)))\n",
        "list(dataset)[:5]"
      ],
      "metadata": {
        "colab": {
          "base_uri": "https://localhost:8080/"
        },
        "id": "ePqWcEzobzNN",
        "outputId": "8f66638a-4b45-4b9d-cae9-1fa8764bf69d"
      },
      "execution_count": null,
      "outputs": [
        {
          "output_type": "stream",
          "name": "stdout",
          "text": [
            "<torch_geometric_temporal.signal.static_graph_temporal_signal.StaticGraphTemporalSignal object at 0x7f7e502be590>\n",
            "34249\n"
          ]
        },
        {
          "output_type": "execute_result",
          "data": {
            "text/plain": [
              "[Data(x=[207, 2, 12], edge_index=[2, 1722], edge_attr=[1722], y=[207, 12]),\n",
              " Data(x=[207, 2, 12], edge_index=[2, 1722], edge_attr=[1722], y=[207, 12]),\n",
              " Data(x=[207, 2, 12], edge_index=[2, 1722], edge_attr=[1722], y=[207, 12]),\n",
              " Data(x=[207, 2, 12], edge_index=[2, 1722], edge_attr=[1722], y=[207, 12]),\n",
              " Data(x=[207, 2, 12], edge_index=[2, 1722], edge_attr=[1722], y=[207, 12])]"
            ]
          },
          "metadata": {},
          "execution_count": 4
        }
      ]
    },
    {
      "cell_type": "code",
      "source": [
        "# nNodes : 207\n",
        "# node feature : (speed, time)\n",
        "# 12 timesteps per bucket : (12 * 5 min)\n",
        "# label (y) : next 12 timesteps (speed)\n",
        "# edge_attr : distances between sensors \n",
        "# node regression\n",
        "\n",
        "print(next(iter(dataset)))\n",
        "print(next(iter(dataset2)))"
      ],
      "metadata": {
        "colab": {
          "base_uri": "https://localhost:8080/"
        },
        "id": "0Upy3goQb5Pm",
        "outputId": "0591fecd-a4ac-404d-9372-22e8398ac3d8"
      },
      "execution_count": null,
      "outputs": [
        {
          "output_type": "stream",
          "name": "stdout",
          "text": [
            "Data(x=[207, 2, 12], edge_index=[2, 1722], edge_attr=[1722], y=[207, 12])\n",
            "Data(x=[207, 2, 6], edge_index=[2, 1722], edge_attr=[1722], y=[207, 6])\n"
          ]
        }
      ]
    },
    {
      "cell_type": "code",
      "source": [
        "# Visualizer\n",
        "import seaborn as sns\n",
        "\n",
        "node_idx = 7    # sensor number\n",
        "hours = 24      # duration\n",
        "\n",
        "node_labels = []\n",
        "for bucket in list(dataset)[:hours]:\n",
        "  # print(bucket)\n",
        "  # print(bucket.y)\n",
        "  # print(bucket.y.shape)\n",
        "  # print(bucket.y[1])\n",
        "  # print(bucket.y[1][0])\n",
        "\n",
        "  node_labels.append(bucket.y[node_idx][0].item())\n",
        "\n",
        "print(node_labels)\n",
        "\n",
        "sns.lineplot(data = node_labels)"
      ],
      "metadata": {
        "colab": {
          "base_uri": "https://localhost:8080/",
          "height": 322
        },
        "id": "WMFxcyPEdySs",
        "outputId": "fa577a5a-d183-4ed0-e2d3-b6eec2ab2f2b"
      },
      "execution_count": null,
      "outputs": [
        {
          "output_type": "stream",
          "name": "stdout",
          "text": [
            "[0.731095016002655, 0.5970844030380249, 0.43421027064323425, 0.6575608849525452, 0.6383185386657715, 0.6355695128440857, 0.5091187357902527, 0.4465804696083069, 0.632133424282074, 0.588837742805481, 0.5036208629608154, 0.4218400716781616, 0.5750930309295654, 0.7187248468399048, 0.5476036071777344, 0.4527655839920044, 0.5860887169837952, 0.6073930263519287, 0.687799334526062, 0.580591082572937, 0.6025824546813965, 0.7549516558647156, 0.723535418510437, 0.4898761510848999]\n"
          ]
        },
        {
          "output_type": "execute_result",
          "data": {
            "text/plain": [
              "<matplotlib.axes._subplots.AxesSubplot at 0x7f7db7992e90>"
            ]
          },
          "metadata": {},
          "execution_count": 6
        },
        {
          "output_type": "display_data",
          "data": {
            "text/plain": [
              "<Figure size 432x288 with 1 Axes>"
            ],
            "image/png": "[encoded data removed]"
          },
          "metadata": {
            "needs_background": "light"
          }
        }
      ]
    },
    {
      "cell_type": "code",
      "source": [
        "from torch_geometric_temporal.signal import temporal_signal_split\n",
        "\n",
        "train_dataset, test_dataset = temporal_signal_split(dataset, train_ratio =  0.8)\n",
        "\n",
        "print(\"Train buckets : {}\".format(len(list(train_dataset))))\n",
        "print(\"Test buckets : {}\".format(len(list(test_dataset))))"
      ],
      "metadata": {
        "colab": {
          "base_uri": "https://localhost:8080/"
        },
        "id": "xyDSd4MnfftQ",
        "outputId": "aecb92e6-c216-486f-fc55-452a41e383ec"
      },
      "execution_count": null,
      "outputs": [
        {
          "output_type": "stream",
          "name": "stdout",
          "text": [
            "Train buckets : 27399\n",
            "Test buckets : 6850\n"
          ]
        }
      ]
    },
    {
      "cell_type": "markdown",
      "source": [
        "## Model"
      ],
      "metadata": {
        "id": "_j7-pUz5iCnK"
      }
    },
    {
      "cell_type": "code",
      "source": [
        "# Attention Temporal Graph Convolutional Network\n",
        "# based on T-GCN\n",
        "\n",
        "import torch\n",
        "import torch.nn as nn\n",
        "import torch.nn.functional as F\n",
        "from torch_geometric_temporal.nn.recurrent import A3TGCN\n",
        "\n",
        "\n",
        "class TemporalGNN(nn.Module):\n",
        "  def __init__(self, node_features, periods):\n",
        "    super(TemporalGNN, self).__init__()\n",
        "\n",
        "    # 3 steps single-shot prediction\n",
        "    self.tgnn = A3TGCN(in_channels = node_features, out_channels = 32, periods = periods)\n",
        "\n",
        "    self.lin = nn.Linear(32, periods)\n",
        "  \n",
        "  def forward(self, x, edge_index):\n",
        "\n",
        "    out = self.tgnn(x, edge_index)\n",
        "    out = F.relu(out)    \n",
        "    out = self.lin(out)\n",
        "\n",
        "    return out\n"
      ],
      "metadata": {
        "id": "7mjYm-GJhxP8"
      },
      "execution_count": null,
      "outputs": []
    },
    {
      "cell_type": "code",
      "source": [
        "# x : node features for T time steps\n",
        "# edge_index : Graph edge indices\n",
        "\n",
        "model = TemporalGNN(node_features = 2, periods = 12)\n",
        "\n",
        "model"
      ],
      "metadata": {
        "colab": {
          "base_uri": "https://localhost:8080/"
        },
        "id": "C2vzDSg9ii5V",
        "outputId": "72e0fe90-b17b-4b25-cd37-15894d9cdce5"
      },
      "execution_count": null,
      "outputs": [
        {
          "output_type": "execute_result",
          "data": {
            "text/plain": [
              "TemporalGNN(\n",
              "  (tgnn): A3TGCN(\n",
              "    (_base_tgcn): TGCN(\n",
              "      (conv_z): GCNConv(2, 32)\n",
              "      (linear_z): Linear(in_features=64, out_features=32, bias=True)\n",
              "      (conv_r): GCNConv(2, 32)\n",
              "      (linear_r): Linear(in_features=64, out_features=32, bias=True)\n",
              "      (conv_h): GCNConv(2, 32)\n",
              "      (linear_h): Linear(in_features=64, out_features=32, bias=True)\n",
              "    )\n",
              "  )\n",
              "  (lin): Linear(in_features=32, out_features=12, bias=True)\n",
              ")"
            ]
          },
          "metadata": {},
          "execution_count": 9
        }
      ]
    },
    {
      "cell_type": "code",
      "source": [
        "device = torch.device(\"cuda:0\" if torch.cuda.is_available() else \"cpu\")\n",
        "subset = 2000\n",
        "\n",
        "model = TemporalGNN(node_features = 2, periods = 12).to(device)\n",
        "optimizer = torch.optim.Adam(model.parameters(), lr =  0.01)\n",
        "\n",
        "eval_preds = []\n",
        "eval_targets = []\n",
        "\n",
        "for epoch in range(5):\n",
        "\n",
        "  # train task\n",
        "  model.train()\n",
        "  optimizer.zero_grad()\n",
        "\n",
        "  train_loss = 0\n",
        "  train_step = 0\n",
        "  for batch in train_dataset:\n",
        "    batch.to(device)\n",
        "    y_hat = model(batch.x, batch.edge_index)\n",
        "    train_loss = train_loss + torch.mean((y_hat - batch.y) ** 2)    # mse\n",
        "    train_step += 1\n",
        "\n",
        "  train_loss = train_loss / (train_step + 1)\n",
        "  train_loss.backward()\n",
        "  optimizer.step()\n",
        "\n",
        "  # evaluation task\n",
        "  model.eval()\n",
        "  eval_loss = 0\n",
        "  eval_step = 0\n",
        "  horizon = 288     # horizon/steps = hours (288/12 = 24)\n",
        "\n",
        "\n",
        "  for batch in test_dataset:\n",
        "    batch.to(device)\n",
        "    y_hat = model(batch.x, batch.edge_index)\n",
        "    eval_loss = eval_loss + torch.mean((y_hat - batch.y) ** 2)\n",
        "\n",
        "    eval_targets.append(batch.y)\n",
        "    eval_preds.append(y_hat)\n",
        "    eval_step += 1\n",
        "\n",
        "  eval_loss = eval_loss / (eval_step + 1)\n",
        "\n",
        "  print('Train MSE : {:.4f}'.format(train_loss))\n",
        "  print('Eval MSE  : {:.4f}'.format(eval_loss.item()))\n"
      ],
      "metadata": {
        "id": "8tW6WSrrj2Wu"
      },
      "execution_count": null,
      "outputs": []
    },
    {
      "cell_type": "code",
      "source": [
        "# Visualization\n",
        "import matplotlib.pyplot as plt\n",
        "\n",
        "sensor_num = 100\n",
        "timestep = 10\n",
        "\n",
        "predicted = np.asarray([eval_preds[sensor_num][timestep].detach().cpu().numpy() for pred in eval_preds])\n",
        "targets = np.asarray([eval_targets[sensor_num][timestep].detach().cpu().numpy() for target in eval_targets])\n",
        "\n",
        "plt.figure(figsize = (20,5))\n",
        "plt.plot(predicted)\n",
        "plt.plot(targets)\n"
      ],
      "metadata": {
        "id": "MM7wzLrAZO_j"
      },
      "execution_count": null,
      "outputs": []
    },
    {
      "cell_type": "code",
      "source": [
        ""
      ],
      "metadata": {
        "id": "2Adh526geynJ"
      },
      "execution_count": null,
      "outputs": []
    }
  ]
}
